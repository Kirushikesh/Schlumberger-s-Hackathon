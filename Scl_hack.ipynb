{
  "nbformat": 4,
  "nbformat_minor": 0,
  "metadata": {
    "colab": {
      "provenance": [],
      "authorship_tag": "ABX9TyNppn2qOelP7Htdbr7VHHec",
      "include_colab_link": true
    },
    "kernelspec": {
      "name": "python3",
      "display_name": "Python 3"
    },
    "language_info": {
      "name": "python"
    },
    "accelerator": "GPU",
    "gpuClass": "standard",
    "widgets": {
      "application/vnd.jupyter.widget-state+json": {
        "3db4cd53b1824db7b0e891def6ba18be": {
          "model_module": "@jupyter-widgets/controls",
          "model_name": "HBoxModel",
          "model_module_version": "1.5.0",
          "state": {
            "_dom_classes": [],
            "_model_module": "@jupyter-widgets/controls",
            "_model_module_version": "1.5.0",
            "_model_name": "HBoxModel",
            "_view_count": null,
            "_view_module": "@jupyter-widgets/controls",
            "_view_module_version": "1.5.0",
            "_view_name": "HBoxView",
            "box_style": "",
            "children": [
              "IPY_MODEL_1434b0c8fc5a41638e55082890b85377",
              "IPY_MODEL_0ae9494abe794b20835eecdc366c5c21",
              "IPY_MODEL_35858b41acbe454f919c25db8430d663"
            ],
            "layout": "IPY_MODEL_a1db5032e8154afd932947d446824839"
          }
        },
        "1434b0c8fc5a41638e55082890b85377": {
          "model_module": "@jupyter-widgets/controls",
          "model_name": "HTMLModel",
          "model_module_version": "1.5.0",
          "state": {
            "_dom_classes": [],
            "_model_module": "@jupyter-widgets/controls",
            "_model_module_version": "1.5.0",
            "_model_name": "HTMLModel",
            "_view_count": null,
            "_view_module": "@jupyter-widgets/controls",
            "_view_module_version": "1.5.0",
            "_view_name": "HTMLView",
            "description": "",
            "description_tooltip": null,
            "layout": "IPY_MODEL_1748bb8495044f9bb2a20cbbbd4e5048",
            "placeholder": "​",
            "style": "IPY_MODEL_ce35e505b85a41ea9303df5161d4fb0e",
            "value": "Downloading: 100%"
          }
        },
        "0ae9494abe794b20835eecdc366c5c21": {
          "model_module": "@jupyter-widgets/controls",
          "model_name": "FloatProgressModel",
          "model_module_version": "1.5.0",
          "state": {
            "_dom_classes": [],
            "_model_module": "@jupyter-widgets/controls",
            "_model_module_version": "1.5.0",
            "_model_name": "FloatProgressModel",
            "_view_count": null,
            "_view_module": "@jupyter-widgets/controls",
            "_view_module_version": "1.5.0",
            "_view_name": "ProgressView",
            "bar_style": "success",
            "description": "",
            "description_tooltip": null,
            "layout": "IPY_MODEL_51637197ed5d41d283f3667cc54335a0",
            "max": 1206,
            "min": 0,
            "orientation": "horizontal",
            "style": "IPY_MODEL_3c2e14c1831845629381aba551b09a7e",
            "value": 1206
          }
        },
        "35858b41acbe454f919c25db8430d663": {
          "model_module": "@jupyter-widgets/controls",
          "model_name": "HTMLModel",
          "model_module_version": "1.5.0",
          "state": {
            "_dom_classes": [],
            "_model_module": "@jupyter-widgets/controls",
            "_model_module_version": "1.5.0",
            "_model_name": "HTMLModel",
            "_view_count": null,
            "_view_module": "@jupyter-widgets/controls",
            "_view_module_version": "1.5.0",
            "_view_name": "HTMLView",
            "description": "",
            "description_tooltip": null,
            "layout": "IPY_MODEL_f0a679baa9654e0aab80e8bfbbef57c6",
            "placeholder": "​",
            "style": "IPY_MODEL_b69d3e0567734fd187353b36f74c9964",
            "value": " 1.21k/1.21k [00:00&lt;00:00, 21.0kB/s]"
          }
        },
        "a1db5032e8154afd932947d446824839": {
          "model_module": "@jupyter-widgets/base",
          "model_name": "LayoutModel",
          "model_module_version": "1.2.0",
          "state": {
            "_model_module": "@jupyter-widgets/base",
            "_model_module_version": "1.2.0",
            "_model_name": "LayoutModel",
            "_view_count": null,
            "_view_module": "@jupyter-widgets/base",
            "_view_module_version": "1.2.0",
            "_view_name": "LayoutView",
            "align_content": null,
            "align_items": null,
            "align_self": null,
            "border": null,
            "bottom": null,
            "display": null,
            "flex": null,
            "flex_flow": null,
            "grid_area": null,
            "grid_auto_columns": null,
            "grid_auto_flow": null,
            "grid_auto_rows": null,
            "grid_column": null,
            "grid_gap": null,
            "grid_row": null,
            "grid_template_areas": null,
            "grid_template_columns": null,
            "grid_template_rows": null,
            "height": null,
            "justify_content": null,
            "justify_items": null,
            "left": null,
            "margin": null,
            "max_height": null,
            "max_width": null,
            "min_height": null,
            "min_width": null,
            "object_fit": null,
            "object_position": null,
            "order": null,
            "overflow": null,
            "overflow_x": null,
            "overflow_y": null,
            "padding": null,
            "right": null,
            "top": null,
            "visibility": null,
            "width": null
          }
        },
        "1748bb8495044f9bb2a20cbbbd4e5048": {
          "model_module": "@jupyter-widgets/base",
          "model_name": "LayoutModel",
          "model_module_version": "1.2.0",
          "state": {
            "_model_module": "@jupyter-widgets/base",
            "_model_module_version": "1.2.0",
            "_model_name": "LayoutModel",
            "_view_count": null,
            "_view_module": "@jupyter-widgets/base",
            "_view_module_version": "1.2.0",
            "_view_name": "LayoutView",
            "align_content": null,
            "align_items": null,
            "align_self": null,
            "border": null,
            "bottom": null,
            "display": null,
            "flex": null,
            "flex_flow": null,
            "grid_area": null,
            "grid_auto_columns": null,
            "grid_auto_flow": null,
            "grid_auto_rows": null,
            "grid_column": null,
            "grid_gap": null,
            "grid_row": null,
            "grid_template_areas": null,
            "grid_template_columns": null,
            "grid_template_rows": null,
            "height": null,
            "justify_content": null,
            "justify_items": null,
            "left": null,
            "margin": null,
            "max_height": null,
            "max_width": null,
            "min_height": null,
            "min_width": null,
            "object_fit": null,
            "object_position": null,
            "order": null,
            "overflow": null,
            "overflow_x": null,
            "overflow_y": null,
            "padding": null,
            "right": null,
            "top": null,
            "visibility": null,
            "width": null
          }
        },
        "ce35e505b85a41ea9303df5161d4fb0e": {
          "model_module": "@jupyter-widgets/controls",
          "model_name": "DescriptionStyleModel",
          "model_module_version": "1.5.0",
          "state": {
            "_model_module": "@jupyter-widgets/controls",
            "_model_module_version": "1.5.0",
            "_model_name": "DescriptionStyleModel",
            "_view_count": null,
            "_view_module": "@jupyter-widgets/base",
            "_view_module_version": "1.2.0",
            "_view_name": "StyleView",
            "description_width": ""
          }
        },
        "51637197ed5d41d283f3667cc54335a0": {
          "model_module": "@jupyter-widgets/base",
          "model_name": "LayoutModel",
          "model_module_version": "1.2.0",
          "state": {
            "_model_module": "@jupyter-widgets/base",
            "_model_module_version": "1.2.0",
            "_model_name": "LayoutModel",
            "_view_count": null,
            "_view_module": "@jupyter-widgets/base",
            "_view_module_version": "1.2.0",
            "_view_name": "LayoutView",
            "align_content": null,
            "align_items": null,
            "align_self": null,
            "border": null,
            "bottom": null,
            "display": null,
            "flex": null,
            "flex_flow": null,
            "grid_area": null,
            "grid_auto_columns": null,
            "grid_auto_flow": null,
            "grid_auto_rows": null,
            "grid_column": null,
            "grid_gap": null,
            "grid_row": null,
            "grid_template_areas": null,
            "grid_template_columns": null,
            "grid_template_rows": null,
            "height": null,
            "justify_content": null,
            "justify_items": null,
            "left": null,
            "margin": null,
            "max_height": null,
            "max_width": null,
            "min_height": null,
            "min_width": null,
            "object_fit": null,
            "object_position": null,
            "order": null,
            "overflow": null,
            "overflow_x": null,
            "overflow_y": null,
            "padding": null,
            "right": null,
            "top": null,
            "visibility": null,
            "width": null
          }
        },
        "3c2e14c1831845629381aba551b09a7e": {
          "model_module": "@jupyter-widgets/controls",
          "model_name": "ProgressStyleModel",
          "model_module_version": "1.5.0",
          "state": {
            "_model_module": "@jupyter-widgets/controls",
            "_model_module_version": "1.5.0",
            "_model_name": "ProgressStyleModel",
            "_view_count": null,
            "_view_module": "@jupyter-widgets/base",
            "_view_module_version": "1.2.0",
            "_view_name": "StyleView",
            "bar_color": null,
            "description_width": ""
          }
        },
        "f0a679baa9654e0aab80e8bfbbef57c6": {
          "model_module": "@jupyter-widgets/base",
          "model_name": "LayoutModel",
          "model_module_version": "1.2.0",
          "state": {
            "_model_module": "@jupyter-widgets/base",
            "_model_module_version": "1.2.0",
            "_model_name": "LayoutModel",
            "_view_count": null,
            "_view_module": "@jupyter-widgets/base",
            "_view_module_version": "1.2.0",
            "_view_name": "LayoutView",
            "align_content": null,
            "align_items": null,
            "align_self": null,
            "border": null,
            "bottom": null,
            "display": null,
            "flex": null,
            "flex_flow": null,
            "grid_area": null,
            "grid_auto_columns": null,
            "grid_auto_flow": null,
            "grid_auto_rows": null,
            "grid_column": null,
            "grid_gap": null,
            "grid_row": null,
            "grid_template_areas": null,
            "grid_template_columns": null,
            "grid_template_rows": null,
            "height": null,
            "justify_content": null,
            "justify_items": null,
            "left": null,
            "margin": null,
            "max_height": null,
            "max_width": null,
            "min_height": null,
            "min_width": null,
            "object_fit": null,
            "object_position": null,
            "order": null,
            "overflow": null,
            "overflow_x": null,
            "overflow_y": null,
            "padding": null,
            "right": null,
            "top": null,
            "visibility": null,
            "width": null
          }
        },
        "b69d3e0567734fd187353b36f74c9964": {
          "model_module": "@jupyter-widgets/controls",
          "model_name": "DescriptionStyleModel",
          "model_module_version": "1.5.0",
          "state": {
            "_model_module": "@jupyter-widgets/controls",
            "_model_module_version": "1.5.0",
            "_model_name": "DescriptionStyleModel",
            "_view_count": null,
            "_view_module": "@jupyter-widgets/base",
            "_view_module_version": "1.2.0",
            "_view_name": "StyleView",
            "description_width": ""
          }
        },
        "bd8b8e7c76a442faa2696fdedba63f54": {
          "model_module": "@jupyter-widgets/controls",
          "model_name": "HBoxModel",
          "model_module_version": "1.5.0",
          "state": {
            "_dom_classes": [],
            "_model_module": "@jupyter-widgets/controls",
            "_model_module_version": "1.5.0",
            "_model_name": "HBoxModel",
            "_view_count": null,
            "_view_module": "@jupyter-widgets/controls",
            "_view_module_version": "1.5.0",
            "_view_name": "HBoxView",
            "box_style": "",
            "children": [
              "IPY_MODEL_eed3731d16744e518b07b03d54aa81aa",
              "IPY_MODEL_0008098322f74b94b8f4240babd310d0",
              "IPY_MODEL_cd5b96da256a4372b8d90cd3aa2d37af"
            ],
            "layout": "IPY_MODEL_6d499163f89b4e0ca9aac745e9366fa2"
          }
        },
        "eed3731d16744e518b07b03d54aa81aa": {
          "model_module": "@jupyter-widgets/controls",
          "model_name": "HTMLModel",
          "model_module_version": "1.5.0",
          "state": {
            "_dom_classes": [],
            "_model_module": "@jupyter-widgets/controls",
            "_model_module_version": "1.5.0",
            "_model_name": "HTMLModel",
            "_view_count": null,
            "_view_module": "@jupyter-widgets/controls",
            "_view_module_version": "1.5.0",
            "_view_name": "HTMLView",
            "description": "",
            "description_tooltip": null,
            "layout": "IPY_MODEL_3857dfe0cd124a939aacb97f8988385e",
            "placeholder": "​",
            "style": "IPY_MODEL_c0ffca945817445187802da7e305dec7",
            "value": "Downloading: 100%"
          }
        },
        "0008098322f74b94b8f4240babd310d0": {
          "model_module": "@jupyter-widgets/controls",
          "model_name": "FloatProgressModel",
          "model_module_version": "1.5.0",
          "state": {
            "_dom_classes": [],
            "_model_module": "@jupyter-widgets/controls",
            "_model_module_version": "1.5.0",
            "_model_name": "FloatProgressModel",
            "_view_count": null,
            "_view_module": "@jupyter-widgets/controls",
            "_view_module_version": "1.5.0",
            "_view_name": "ProgressView",
            "bar_style": "success",
            "description": "",
            "description_tooltip": null,
            "layout": "IPY_MODEL_0f6a8f3e5a5e46bba06c767042b80e4e",
            "max": 242065649,
            "min": 0,
            "orientation": "horizontal",
            "style": "IPY_MODEL_7d79078ab8ab459b952db4045337c14c",
            "value": 242065649
          }
        },
        "cd5b96da256a4372b8d90cd3aa2d37af": {
          "model_module": "@jupyter-widgets/controls",
          "model_name": "HTMLModel",
          "model_module_version": "1.5.0",
          "state": {
            "_dom_classes": [],
            "_model_module": "@jupyter-widgets/controls",
            "_model_module_version": "1.5.0",
            "_model_name": "HTMLModel",
            "_view_count": null,
            "_view_module": "@jupyter-widgets/controls",
            "_view_module_version": "1.5.0",
            "_view_name": "HTMLView",
            "description": "",
            "description_tooltip": null,
            "layout": "IPY_MODEL_4ba67239d39b428792d8fe44117209e8",
            "placeholder": "​",
            "style": "IPY_MODEL_32e9ae3ad21641e6927ed6a0db6b0d80",
            "value": " 242M/242M [00:07&lt;00:00, 42.0MB/s]"
          }
        },
        "6d499163f89b4e0ca9aac745e9366fa2": {
          "model_module": "@jupyter-widgets/base",
          "model_name": "LayoutModel",
          "model_module_version": "1.2.0",
          "state": {
            "_model_module": "@jupyter-widgets/base",
            "_model_module_version": "1.2.0",
            "_model_name": "LayoutModel",
            "_view_count": null,
            "_view_module": "@jupyter-widgets/base",
            "_view_module_version": "1.2.0",
            "_view_name": "LayoutView",
            "align_content": null,
            "align_items": null,
            "align_self": null,
            "border": null,
            "bottom": null,
            "display": null,
            "flex": null,
            "flex_flow": null,
            "grid_area": null,
            "grid_auto_columns": null,
            "grid_auto_flow": null,
            "grid_auto_rows": null,
            "grid_column": null,
            "grid_gap": null,
            "grid_row": null,
            "grid_template_areas": null,
            "grid_template_columns": null,
            "grid_template_rows": null,
            "height": null,
            "justify_content": null,
            "justify_items": null,
            "left": null,
            "margin": null,
            "max_height": null,
            "max_width": null,
            "min_height": null,
            "min_width": null,
            "object_fit": null,
            "object_position": null,
            "order": null,
            "overflow": null,
            "overflow_x": null,
            "overflow_y": null,
            "padding": null,
            "right": null,
            "top": null,
            "visibility": null,
            "width": null
          }
        },
        "3857dfe0cd124a939aacb97f8988385e": {
          "model_module": "@jupyter-widgets/base",
          "model_name": "LayoutModel",
          "model_module_version": "1.2.0",
          "state": {
            "_model_module": "@jupyter-widgets/base",
            "_model_module_version": "1.2.0",
            "_model_name": "LayoutModel",
            "_view_count": null,
            "_view_module": "@jupyter-widgets/base",
            "_view_module_version": "1.2.0",
            "_view_name": "LayoutView",
            "align_content": null,
            "align_items": null,
            "align_self": null,
            "border": null,
            "bottom": null,
            "display": null,
            "flex": null,
            "flex_flow": null,
            "grid_area": null,
            "grid_auto_columns": null,
            "grid_auto_flow": null,
            "grid_auto_rows": null,
            "grid_column": null,
            "grid_gap": null,
            "grid_row": null,
            "grid_template_areas": null,
            "grid_template_columns": null,
            "grid_template_rows": null,
            "height": null,
            "justify_content": null,
            "justify_items": null,
            "left": null,
            "margin": null,
            "max_height": null,
            "max_width": null,
            "min_height": null,
            "min_width": null,
            "object_fit": null,
            "object_position": null,
            "order": null,
            "overflow": null,
            "overflow_x": null,
            "overflow_y": null,
            "padding": null,
            "right": null,
            "top": null,
            "visibility": null,
            "width": null
          }
        },
        "c0ffca945817445187802da7e305dec7": {
          "model_module": "@jupyter-widgets/controls",
          "model_name": "DescriptionStyleModel",
          "model_module_version": "1.5.0",
          "state": {
            "_model_module": "@jupyter-widgets/controls",
            "_model_module_version": "1.5.0",
            "_model_name": "DescriptionStyleModel",
            "_view_count": null,
            "_view_module": "@jupyter-widgets/base",
            "_view_module_version": "1.2.0",
            "_view_name": "StyleView",
            "description_width": ""
          }
        },
        "0f6a8f3e5a5e46bba06c767042b80e4e": {
          "model_module": "@jupyter-widgets/base",
          "model_name": "LayoutModel",
          "model_module_version": "1.2.0",
          "state": {
            "_model_module": "@jupyter-widgets/base",
            "_model_module_version": "1.2.0",
            "_model_name": "LayoutModel",
            "_view_count": null,
            "_view_module": "@jupyter-widgets/base",
            "_view_module_version": "1.2.0",
            "_view_name": "LayoutView",
            "align_content": null,
            "align_items": null,
            "align_self": null,
            "border": null,
            "bottom": null,
            "display": null,
            "flex": null,
            "flex_flow": null,
            "grid_area": null,
            "grid_auto_columns": null,
            "grid_auto_flow": null,
            "grid_auto_rows": null,
            "grid_column": null,
            "grid_gap": null,
            "grid_row": null,
            "grid_template_areas": null,
            "grid_template_columns": null,
            "grid_template_rows": null,
            "height": null,
            "justify_content": null,
            "justify_items": null,
            "left": null,
            "margin": null,
            "max_height": null,
            "max_width": null,
            "min_height": null,
            "min_width": null,
            "object_fit": null,
            "object_position": null,
            "order": null,
            "overflow": null,
            "overflow_x": null,
            "overflow_y": null,
            "padding": null,
            "right": null,
            "top": null,
            "visibility": null,
            "width": null
          }
        },
        "7d79078ab8ab459b952db4045337c14c": {
          "model_module": "@jupyter-widgets/controls",
          "model_name": "ProgressStyleModel",
          "model_module_version": "1.5.0",
          "state": {
            "_model_module": "@jupyter-widgets/controls",
            "_model_module_version": "1.5.0",
            "_model_name": "ProgressStyleModel",
            "_view_count": null,
            "_view_module": "@jupyter-widgets/base",
            "_view_module_version": "1.2.0",
            "_view_name": "StyleView",
            "bar_color": null,
            "description_width": ""
          }
        },
        "4ba67239d39b428792d8fe44117209e8": {
          "model_module": "@jupyter-widgets/base",
          "model_name": "LayoutModel",
          "model_module_version": "1.2.0",
          "state": {
            "_model_module": "@jupyter-widgets/base",
            "_model_module_version": "1.2.0",
            "_model_name": "LayoutModel",
            "_view_count": null,
            "_view_module": "@jupyter-widgets/base",
            "_view_module_version": "1.2.0",
            "_view_name": "LayoutView",
            "align_content": null,
            "align_items": null,
            "align_self": null,
            "border": null,
            "bottom": null,
            "display": null,
            "flex": null,
            "flex_flow": null,
            "grid_area": null,
            "grid_auto_columns": null,
            "grid_auto_flow": null,
            "grid_auto_rows": null,
            "grid_column": null,
            "grid_gap": null,
            "grid_row": null,
            "grid_template_areas": null,
            "grid_template_columns": null,
            "grid_template_rows": null,
            "height": null,
            "justify_content": null,
            "justify_items": null,
            "left": null,
            "margin": null,
            "max_height": null,
            "max_width": null,
            "min_height": null,
            "min_width": null,
            "object_fit": null,
            "object_position": null,
            "order": null,
            "overflow": null,
            "overflow_x": null,
            "overflow_y": null,
            "padding": null,
            "right": null,
            "top": null,
            "visibility": null,
            "width": null
          }
        },
        "32e9ae3ad21641e6927ed6a0db6b0d80": {
          "model_module": "@jupyter-widgets/controls",
          "model_name": "DescriptionStyleModel",
          "model_module_version": "1.5.0",
          "state": {
            "_model_module": "@jupyter-widgets/controls",
            "_model_module_version": "1.5.0",
            "_model_name": "DescriptionStyleModel",
            "_view_count": null,
            "_view_module": "@jupyter-widgets/base",
            "_view_module_version": "1.2.0",
            "_view_name": "StyleView",
            "description_width": ""
          }
        },
        "447aae27f8f647c69cf0c39edc154ba2": {
          "model_module": "@jupyter-widgets/controls",
          "model_name": "HBoxModel",
          "model_module_version": "1.5.0",
          "state": {
            "_dom_classes": [],
            "_model_module": "@jupyter-widgets/controls",
            "_model_module_version": "1.5.0",
            "_model_name": "HBoxModel",
            "_view_count": null,
            "_view_module": "@jupyter-widgets/controls",
            "_view_module_version": "1.5.0",
            "_view_name": "HBoxView",
            "box_style": "",
            "children": [
              "IPY_MODEL_2ae968e20bf4485d807e263b62f5858c",
              "IPY_MODEL_4fe8e9860c4343299fbf8e62102840d6",
              "IPY_MODEL_46135921a02f49609f1baeabb0938a9b"
            ],
            "layout": "IPY_MODEL_3ffb0028b1a04224a05ac89bf652e448"
          }
        },
        "2ae968e20bf4485d807e263b62f5858c": {
          "model_module": "@jupyter-widgets/controls",
          "model_name": "HTMLModel",
          "model_module_version": "1.5.0",
          "state": {
            "_dom_classes": [],
            "_model_module": "@jupyter-widgets/controls",
            "_model_module_version": "1.5.0",
            "_model_name": "HTMLModel",
            "_view_count": null,
            "_view_module": "@jupyter-widgets/controls",
            "_view_module_version": "1.5.0",
            "_view_name": "HTMLView",
            "description": "",
            "description_tooltip": null,
            "layout": "IPY_MODEL_ebdf1364651b49768038e7823ae602f5",
            "placeholder": "​",
            "style": "IPY_MODEL_edeb03050ee348ae9afa4d59468a5ce2",
            "value": "Downloading: 100%"
          }
        },
        "4fe8e9860c4343299fbf8e62102840d6": {
          "model_module": "@jupyter-widgets/controls",
          "model_name": "FloatProgressModel",
          "model_module_version": "1.5.0",
          "state": {
            "_dom_classes": [],
            "_model_module": "@jupyter-widgets/controls",
            "_model_module_version": "1.5.0",
            "_model_name": "FloatProgressModel",
            "_view_count": null,
            "_view_module": "@jupyter-widgets/controls",
            "_view_module_version": "1.5.0",
            "_view_name": "ProgressView",
            "bar_style": "success",
            "description": "",
            "description_tooltip": null,
            "layout": "IPY_MODEL_850c4cadfc4d4c11ba5d5be0b2c9a871",
            "max": 791656,
            "min": 0,
            "orientation": "horizontal",
            "style": "IPY_MODEL_bd445526a20b40978065b48ca3867223",
            "value": 791656
          }
        },
        "46135921a02f49609f1baeabb0938a9b": {
          "model_module": "@jupyter-widgets/controls",
          "model_name": "HTMLModel",
          "model_module_version": "1.5.0",
          "state": {
            "_dom_classes": [],
            "_model_module": "@jupyter-widgets/controls",
            "_model_module_version": "1.5.0",
            "_model_name": "HTMLModel",
            "_view_count": null,
            "_view_module": "@jupyter-widgets/controls",
            "_view_module_version": "1.5.0",
            "_view_name": "HTMLView",
            "description": "",
            "description_tooltip": null,
            "layout": "IPY_MODEL_f7b725110de446a99f5640a0f8d3e432",
            "placeholder": "​",
            "style": "IPY_MODEL_45a629490dd84664af228224381d3c34",
            "value": " 792k/792k [00:00&lt;00:00, 1.56MB/s]"
          }
        },
        "3ffb0028b1a04224a05ac89bf652e448": {
          "model_module": "@jupyter-widgets/base",
          "model_name": "LayoutModel",
          "model_module_version": "1.2.0",
          "state": {
            "_model_module": "@jupyter-widgets/base",
            "_model_module_version": "1.2.0",
            "_model_name": "LayoutModel",
            "_view_count": null,
            "_view_module": "@jupyter-widgets/base",
            "_view_module_version": "1.2.0",
            "_view_name": "LayoutView",
            "align_content": null,
            "align_items": null,
            "align_self": null,
            "border": null,
            "bottom": null,
            "display": null,
            "flex": null,
            "flex_flow": null,
            "grid_area": null,
            "grid_auto_columns": null,
            "grid_auto_flow": null,
            "grid_auto_rows": null,
            "grid_column": null,
            "grid_gap": null,
            "grid_row": null,
            "grid_template_areas": null,
            "grid_template_columns": null,
            "grid_template_rows": null,
            "height": null,
            "justify_content": null,
            "justify_items": null,
            "left": null,
            "margin": null,
            "max_height": null,
            "max_width": null,
            "min_height": null,
            "min_width": null,
            "object_fit": null,
            "object_position": null,
            "order": null,
            "overflow": null,
            "overflow_x": null,
            "overflow_y": null,
            "padding": null,
            "right": null,
            "top": null,
            "visibility": null,
            "width": null
          }
        },
        "ebdf1364651b49768038e7823ae602f5": {
          "model_module": "@jupyter-widgets/base",
          "model_name": "LayoutModel",
          "model_module_version": "1.2.0",
          "state": {
            "_model_module": "@jupyter-widgets/base",
            "_model_module_version": "1.2.0",
            "_model_name": "LayoutModel",
            "_view_count": null,
            "_view_module": "@jupyter-widgets/base",
            "_view_module_version": "1.2.0",
            "_view_name": "LayoutView",
            "align_content": null,
            "align_items": null,
            "align_self": null,
            "border": null,
            "bottom": null,
            "display": null,
            "flex": null,
            "flex_flow": null,
            "grid_area": null,
            "grid_auto_columns": null,
            "grid_auto_flow": null,
            "grid_auto_rows": null,
            "grid_column": null,
            "grid_gap": null,
            "grid_row": null,
            "grid_template_areas": null,
            "grid_template_columns": null,
            "grid_template_rows": null,
            "height": null,
            "justify_content": null,
            "justify_items": null,
            "left": null,
            "margin": null,
            "max_height": null,
            "max_width": null,
            "min_height": null,
            "min_width": null,
            "object_fit": null,
            "object_position": null,
            "order": null,
            "overflow": null,
            "overflow_x": null,
            "overflow_y": null,
            "padding": null,
            "right": null,
            "top": null,
            "visibility": null,
            "width": null
          }
        },
        "edeb03050ee348ae9afa4d59468a5ce2": {
          "model_module": "@jupyter-widgets/controls",
          "model_name": "DescriptionStyleModel",
          "model_module_version": "1.5.0",
          "state": {
            "_model_module": "@jupyter-widgets/controls",
            "_model_module_version": "1.5.0",
            "_model_name": "DescriptionStyleModel",
            "_view_count": null,
            "_view_module": "@jupyter-widgets/base",
            "_view_module_version": "1.2.0",
            "_view_name": "StyleView",
            "description_width": ""
          }
        },
        "850c4cadfc4d4c11ba5d5be0b2c9a871": {
          "model_module": "@jupyter-widgets/base",
          "model_name": "LayoutModel",
          "model_module_version": "1.2.0",
          "state": {
            "_model_module": "@jupyter-widgets/base",
            "_model_module_version": "1.2.0",
            "_model_name": "LayoutModel",
            "_view_count": null,
            "_view_module": "@jupyter-widgets/base",
            "_view_module_version": "1.2.0",
            "_view_name": "LayoutView",
            "align_content": null,
            "align_items": null,
            "align_self": null,
            "border": null,
            "bottom": null,
            "display": null,
            "flex": null,
            "flex_flow": null,
            "grid_area": null,
            "grid_auto_columns": null,
            "grid_auto_flow": null,
            "grid_auto_rows": null,
            "grid_column": null,
            "grid_gap": null,
            "grid_row": null,
            "grid_template_areas": null,
            "grid_template_columns": null,
            "grid_template_rows": null,
            "height": null,
            "justify_content": null,
            "justify_items": null,
            "left": null,
            "margin": null,
            "max_height": null,
            "max_width": null,
            "min_height": null,
            "min_width": null,
            "object_fit": null,
            "object_position": null,
            "order": null,
            "overflow": null,
            "overflow_x": null,
            "overflow_y": null,
            "padding": null,
            "right": null,
            "top": null,
            "visibility": null,
            "width": null
          }
        },
        "bd445526a20b40978065b48ca3867223": {
          "model_module": "@jupyter-widgets/controls",
          "model_name": "ProgressStyleModel",
          "model_module_version": "1.5.0",
          "state": {
            "_model_module": "@jupyter-widgets/controls",
            "_model_module_version": "1.5.0",
            "_model_name": "ProgressStyleModel",
            "_view_count": null,
            "_view_module": "@jupyter-widgets/base",
            "_view_module_version": "1.2.0",
            "_view_name": "StyleView",
            "bar_color": null,
            "description_width": ""
          }
        },
        "f7b725110de446a99f5640a0f8d3e432": {
          "model_module": "@jupyter-widgets/base",
          "model_name": "LayoutModel",
          "model_module_version": "1.2.0",
          "state": {
            "_model_module": "@jupyter-widgets/base",
            "_model_module_version": "1.2.0",
            "_model_name": "LayoutModel",
            "_view_count": null,
            "_view_module": "@jupyter-widgets/base",
            "_view_module_version": "1.2.0",
            "_view_name": "LayoutView",
            "align_content": null,
            "align_items": null,
            "align_self": null,
            "border": null,
            "bottom": null,
            "display": null,
            "flex": null,
            "flex_flow": null,
            "grid_area": null,
            "grid_auto_columns": null,
            "grid_auto_flow": null,
            "grid_auto_rows": null,
            "grid_column": null,
            "grid_gap": null,
            "grid_row": null,
            "grid_template_areas": null,
            "grid_template_columns": null,
            "grid_template_rows": null,
            "height": null,
            "justify_content": null,
            "justify_items": null,
            "left": null,
            "margin": null,
            "max_height": null,
            "max_width": null,
            "min_height": null,
            "min_width": null,
            "object_fit": null,
            "object_position": null,
            "order": null,
            "overflow": null,
            "overflow_x": null,
            "overflow_y": null,
            "padding": null,
            "right": null,
            "top": null,
            "visibility": null,
            "width": null
          }
        },
        "45a629490dd84664af228224381d3c34": {
          "model_module": "@jupyter-widgets/controls",
          "model_name": "DescriptionStyleModel",
          "model_module_version": "1.5.0",
          "state": {
            "_model_module": "@jupyter-widgets/controls",
            "_model_module_version": "1.5.0",
            "_model_name": "DescriptionStyleModel",
            "_view_count": null,
            "_view_module": "@jupyter-widgets/base",
            "_view_module_version": "1.2.0",
            "_view_name": "StyleView",
            "description_width": ""
          }
        },
        "34709936be804579a173d14faea9a410": {
          "model_module": "@jupyter-widgets/controls",
          "model_name": "HBoxModel",
          "model_module_version": "1.5.0",
          "state": {
            "_dom_classes": [],
            "_model_module": "@jupyter-widgets/controls",
            "_model_module_version": "1.5.0",
            "_model_name": "HBoxModel",
            "_view_count": null,
            "_view_module": "@jupyter-widgets/controls",
            "_view_module_version": "1.5.0",
            "_view_name": "HBoxView",
            "box_style": "",
            "children": [
              "IPY_MODEL_808ce9c2cdf545f7aa4b50201d656d18",
              "IPY_MODEL_43380748b618489dad22e305758c2283",
              "IPY_MODEL_a24b7bdd1cc34096a6126951ef26e5a3"
            ],
            "layout": "IPY_MODEL_9c30f6f478e94c73a019c938ca540a3d"
          }
        },
        "808ce9c2cdf545f7aa4b50201d656d18": {
          "model_module": "@jupyter-widgets/controls",
          "model_name": "HTMLModel",
          "model_module_version": "1.5.0",
          "state": {
            "_dom_classes": [],
            "_model_module": "@jupyter-widgets/controls",
            "_model_module_version": "1.5.0",
            "_model_name": "HTMLModel",
            "_view_count": null,
            "_view_module": "@jupyter-widgets/controls",
            "_view_module_version": "1.5.0",
            "_view_name": "HTMLView",
            "description": "",
            "description_tooltip": null,
            "layout": "IPY_MODEL_291af66cf0b4427786ba0da0e8f7ad6b",
            "placeholder": "​",
            "style": "IPY_MODEL_17cf9361274249a8b29dada2db597bad",
            "value": "Downloading: 100%"
          }
        },
        "43380748b618489dad22e305758c2283": {
          "model_module": "@jupyter-widgets/controls",
          "model_name": "FloatProgressModel",
          "model_module_version": "1.5.0",
          "state": {
            "_dom_classes": [],
            "_model_module": "@jupyter-widgets/controls",
            "_model_module_version": "1.5.0",
            "_model_name": "FloatProgressModel",
            "_view_count": null,
            "_view_module": "@jupyter-widgets/controls",
            "_view_module_version": "1.5.0",
            "_view_name": "ProgressView",
            "bar_style": "success",
            "description": "",
            "description_tooltip": null,
            "layout": "IPY_MODEL_5db14b76875c4dfaa52ae5f97c98fc82",
            "max": 1389353,
            "min": 0,
            "orientation": "horizontal",
            "style": "IPY_MODEL_f2e3ac66ffe74f1ea0a87a4a6c95c58f",
            "value": 1389353
          }
        },
        "a24b7bdd1cc34096a6126951ef26e5a3": {
          "model_module": "@jupyter-widgets/controls",
          "model_name": "HTMLModel",
          "model_module_version": "1.5.0",
          "state": {
            "_dom_classes": [],
            "_model_module": "@jupyter-widgets/controls",
            "_model_module_version": "1.5.0",
            "_model_name": "HTMLModel",
            "_view_count": null,
            "_view_module": "@jupyter-widgets/controls",
            "_view_module_version": "1.5.0",
            "_view_name": "HTMLView",
            "description": "",
            "description_tooltip": null,
            "layout": "IPY_MODEL_43898f1781a04aac9d315606c7d63eae",
            "placeholder": "​",
            "style": "IPY_MODEL_3ec2e6003f434187b4f5617d7f5b51ac",
            "value": " 1.39M/1.39M [00:00&lt;00:00, 1.73MB/s]"
          }
        },
        "9c30f6f478e94c73a019c938ca540a3d": {
          "model_module": "@jupyter-widgets/base",
          "model_name": "LayoutModel",
          "model_module_version": "1.2.0",
          "state": {
            "_model_module": "@jupyter-widgets/base",
            "_model_module_version": "1.2.0",
            "_model_name": "LayoutModel",
            "_view_count": null,
            "_view_module": "@jupyter-widgets/base",
            "_view_module_version": "1.2.0",
            "_view_name": "LayoutView",
            "align_content": null,
            "align_items": null,
            "align_self": null,
            "border": null,
            "bottom": null,
            "display": null,
            "flex": null,
            "flex_flow": null,
            "grid_area": null,
            "grid_auto_columns": null,
            "grid_auto_flow": null,
            "grid_auto_rows": null,
            "grid_column": null,
            "grid_gap": null,
            "grid_row": null,
            "grid_template_areas": null,
            "grid_template_columns": null,
            "grid_template_rows": null,
            "height": null,
            "justify_content": null,
            "justify_items": null,
            "left": null,
            "margin": null,
            "max_height": null,
            "max_width": null,
            "min_height": null,
            "min_width": null,
            "object_fit": null,
            "object_position": null,
            "order": null,
            "overflow": null,
            "overflow_x": null,
            "overflow_y": null,
            "padding": null,
            "right": null,
            "top": null,
            "visibility": null,
            "width": null
          }
        },
        "291af66cf0b4427786ba0da0e8f7ad6b": {
          "model_module": "@jupyter-widgets/base",
          "model_name": "LayoutModel",
          "model_module_version": "1.2.0",
          "state": {
            "_model_module": "@jupyter-widgets/base",
            "_model_module_version": "1.2.0",
            "_model_name": "LayoutModel",
            "_view_count": null,
            "_view_module": "@jupyter-widgets/base",
            "_view_module_version": "1.2.0",
            "_view_name": "LayoutView",
            "align_content": null,
            "align_items": null,
            "align_self": null,
            "border": null,
            "bottom": null,
            "display": null,
            "flex": null,
            "flex_flow": null,
            "grid_area": null,
            "grid_auto_columns": null,
            "grid_auto_flow": null,
            "grid_auto_rows": null,
            "grid_column": null,
            "grid_gap": null,
            "grid_row": null,
            "grid_template_areas": null,
            "grid_template_columns": null,
            "grid_template_rows": null,
            "height": null,
            "justify_content": null,
            "justify_items": null,
            "left": null,
            "margin": null,
            "max_height": null,
            "max_width": null,
            "min_height": null,
            "min_width": null,
            "object_fit": null,
            "object_position": null,
            "order": null,
            "overflow": null,
            "overflow_x": null,
            "overflow_y": null,
            "padding": null,
            "right": null,
            "top": null,
            "visibility": null,
            "width": null
          }
        },
        "17cf9361274249a8b29dada2db597bad": {
          "model_module": "@jupyter-widgets/controls",
          "model_name": "DescriptionStyleModel",
          "model_module_version": "1.5.0",
          "state": {
            "_model_module": "@jupyter-widgets/controls",
            "_model_module_version": "1.5.0",
            "_model_name": "DescriptionStyleModel",
            "_view_count": null,
            "_view_module": "@jupyter-widgets/base",
            "_view_module_version": "1.2.0",
            "_view_name": "StyleView",
            "description_width": ""
          }
        },
        "5db14b76875c4dfaa52ae5f97c98fc82": {
          "model_module": "@jupyter-widgets/base",
          "model_name": "LayoutModel",
          "model_module_version": "1.2.0",
          "state": {
            "_model_module": "@jupyter-widgets/base",
            "_model_module_version": "1.2.0",
            "_model_name": "LayoutModel",
            "_view_count": null,
            "_view_module": "@jupyter-widgets/base",
            "_view_module_version": "1.2.0",
            "_view_name": "LayoutView",
            "align_content": null,
            "align_items": null,
            "align_self": null,
            "border": null,
            "bottom": null,
            "display": null,
            "flex": null,
            "flex_flow": null,
            "grid_area": null,
            "grid_auto_columns": null,
            "grid_auto_flow": null,
            "grid_auto_rows": null,
            "grid_column": null,
            "grid_gap": null,
            "grid_row": null,
            "grid_template_areas": null,
            "grid_template_columns": null,
            "grid_template_rows": null,
            "height": null,
            "justify_content": null,
            "justify_items": null,
            "left": null,
            "margin": null,
            "max_height": null,
            "max_width": null,
            "min_height": null,
            "min_width": null,
            "object_fit": null,
            "object_position": null,
            "order": null,
            "overflow": null,
            "overflow_x": null,
            "overflow_y": null,
            "padding": null,
            "right": null,
            "top": null,
            "visibility": null,
            "width": null
          }
        },
        "f2e3ac66ffe74f1ea0a87a4a6c95c58f": {
          "model_module": "@jupyter-widgets/controls",
          "model_name": "ProgressStyleModel",
          "model_module_version": "1.5.0",
          "state": {
            "_model_module": "@jupyter-widgets/controls",
            "_model_module_version": "1.5.0",
            "_model_name": "ProgressStyleModel",
            "_view_count": null,
            "_view_module": "@jupyter-widgets/base",
            "_view_module_version": "1.2.0",
            "_view_name": "StyleView",
            "bar_color": null,
            "description_width": ""
          }
        },
        "43898f1781a04aac9d315606c7d63eae": {
          "model_module": "@jupyter-widgets/base",
          "model_name": "LayoutModel",
          "model_module_version": "1.2.0",
          "state": {
            "_model_module": "@jupyter-widgets/base",
            "_model_module_version": "1.2.0",
            "_model_name": "LayoutModel",
            "_view_count": null,
            "_view_module": "@jupyter-widgets/base",
            "_view_module_version": "1.2.0",
            "_view_name": "LayoutView",
            "align_content": null,
            "align_items": null,
            "align_self": null,
            "border": null,
            "bottom": null,
            "display": null,
            "flex": null,
            "flex_flow": null,
            "grid_area": null,
            "grid_auto_columns": null,
            "grid_auto_flow": null,
            "grid_auto_rows": null,
            "grid_column": null,
            "grid_gap": null,
            "grid_row": null,
            "grid_template_areas": null,
            "grid_template_columns": null,
            "grid_template_rows": null,
            "height": null,
            "justify_content": null,
            "justify_items": null,
            "left": null,
            "margin": null,
            "max_height": null,
            "max_width": null,
            "min_height": null,
            "min_width": null,
            "object_fit": null,
            "object_position": null,
            "order": null,
            "overflow": null,
            "overflow_x": null,
            "overflow_y": null,
            "padding": null,
            "right": null,
            "top": null,
            "visibility": null,
            "width": null
          }
        },
        "3ec2e6003f434187b4f5617d7f5b51ac": {
          "model_module": "@jupyter-widgets/controls",
          "model_name": "DescriptionStyleModel",
          "model_module_version": "1.5.0",
          "state": {
            "_model_module": "@jupyter-widgets/controls",
            "_model_module_version": "1.5.0",
            "_model_name": "DescriptionStyleModel",
            "_view_count": null,
            "_view_module": "@jupyter-widgets/base",
            "_view_module_version": "1.2.0",
            "_view_name": "StyleView",
            "description_width": ""
          }
        }
      }
    }
  },
  "cells": [
    {
      "cell_type": "markdown",
      "metadata": {
        "id": "view-in-github",
        "colab_type": "text"
      },
      "source": [
        "<a href=\"https://colab.research.google.com/github/Kirushikesh/Schlumberger-s-Hackathon/blob/main/Scl_hackipynb.ipynb\" target=\"_parent\"><img src=\"https://colab.research.google.com/assets/colab-badge.svg\" alt=\"Open In Colab\"/></a>"
      ]
    },
    {
      "cell_type": "markdown",
      "source": [
        "# Crawler"
      ],
      "metadata": {
        "id": "ByMogreeM1ZL"
      }
    },
    {
      "cell_type": "markdown",
      "source": [
        "For now we are focussing on the 4 websites provided in the problem statement. We input a search query and get the top results url from the results.\n",
        "\n",
        "Output will be the list of news feed url links"
      ],
      "metadata": {
        "id": "aDugTDiiNuxq"
      }
    },
    {
      "cell_type": "code",
      "execution_count": 37,
      "metadata": {
        "id": "PjUV9OggoZma"
      },
      "outputs": [],
      "source": [
        "data_sources=[\n",
        "    #'https://electrical-engineering-portal.com/?s=%s&post_type_page=&post_type_post=',\n",
        "    #'https://climate.mit.edu/search/google?keys=%s',\n",
        "    #'https://netl.doe.gov/search/node?keys=%s',\n",
        "    'https://www.iea.org/search/news?q=%s'\n",
        "]"
      ]
    },
    {
      "cell_type": "code",
      "source": [
        "import requests\n",
        "from bs4 import BeautifulSoup\n",
        "\n",
        "def iea_crawler(site,k):\n",
        "    r = requests.get(site)\n",
        "    soup = BeautifulSoup(r.content, 'html.parser')\n",
        "\n",
        "    out=[]\n",
        "    for article in soup.find_all('article',class_='m-news-listing',limit=k):\n",
        "        out.append('https://www.iea.org'+article.find('a').get('href'))\n",
        "    return out"
      ],
      "metadata": {
        "id": "4eXCAraoJyHQ"
      },
      "execution_count": 38,
      "outputs": []
    },
    {
      "cell_type": "code",
      "source": [
        "def return_topk(query,k):\n",
        "    crawler_list=[]\n",
        "    crawler_list.extend(iea_crawler('https://www.iea.org/search/news?q=%s' %query,k))\n",
        "\n",
        "    return crawler_list"
      ],
      "metadata": {
        "id": "W1IROPHsPC9C"
      },
      "execution_count": 39,
      "outputs": []
    },
    {
      "cell_type": "markdown",
      "source": [
        "# Scraper"
      ],
      "metadata": {
        "id": "jaCt_zF4LXBW"
      }
    },
    {
      "cell_type": "markdown",
      "source": [
        "Find the crawled websites and web scrap each and every document in that list and preprocess it.\n",
        "\n",
        "Output will be the list of articles in english"
      ],
      "metadata": {
        "id": "mtuTogXvMC8p"
      }
    },
    {
      "cell_type": "code",
      "source": [
        "import re\n",
        "\n",
        "def remove_script_code(data):\n",
        "    pattern = r'<[ ]*script.*?\\/[ ]*script[ ]*>'  # mach any char zero or more times\n",
        "    return re.sub(pattern, '', data, flags=(re.IGNORECASE | re.MULTILINE | re.DOTALL))\n",
        "\n",
        "# remove whitespace from text\n",
        "def remove_whitespace(text):\n",
        "    return  \" \".join(text.split())\n",
        " \n",
        "# Condenses all repeating newline characters into one single newline character\n",
        "def condense_newline(text):\n",
        "    return ' '.join([p for p in re.split('\\n|\\r', text) if len(p) > 0])\n",
        "\n",
        "def remove_htmltag(text):\n",
        "    TAG_RE = re.compile(r'<[^>]+>')\n",
        "    return TAG_RE.sub(' ', str(text))\n",
        "\n",
        "def scrap(site):\n",
        "    r = requests.get(site)\n",
        "    soup = BeautifulSoup(r.content,'html.parser')\n",
        "    return remove_whitespace(condense_newline(remove_htmltag(remove_script_code(str(soup)))))"
      ],
      "metadata": {
        "id": "mjKZjdNQLaCe"
      },
      "execution_count": 6,
      "outputs": []
    },
    {
      "cell_type": "code",
      "source": [
        "def scrapper_agg(sites):\n",
        "    texts=[]\n",
        "    for site in sites:\n",
        "        texts.append(scrap(site))\n",
        "    \n",
        "    return texts"
      ],
      "metadata": {
        "id": "jIEP_-g0JnDo"
      },
      "execution_count": 7,
      "outputs": []
    },
    {
      "cell_type": "markdown",
      "source": [
        "# Summarizer"
      ],
      "metadata": {
        "id": "GAqf5Q3XKMax"
      }
    },
    {
      "cell_type": "code",
      "source": [
        "!pip install -q -U transformers"
      ],
      "metadata": {
        "colab": {
          "base_uri": "https://localhost:8080/"
        },
        "id": "uhagotZEL1A2",
        "outputId": "0f5012ed-fd65-4008-a06b-472fe646bfac"
      },
      "execution_count": 12,
      "outputs": [
        {
          "output_type": "stream",
          "name": "stdout",
          "text": [
            "\u001b[2K     \u001b[90m━━━━━━━━━━━━━━━━━━━━━━━━━━━━━━━━━━━━━━━━\u001b[0m \u001b[32m5.8/5.8 MB\u001b[0m \u001b[31m50.0 MB/s\u001b[0m eta \u001b[36m0:00:00\u001b[0m\n",
            "\u001b[2K     \u001b[90m━━━━━━━━━━━━━━━━━━━━━━━━━━━━━━━━━━━━━━\u001b[0m \u001b[32m182.4/182.4 KB\u001b[0m \u001b[31m24.4 MB/s\u001b[0m eta \u001b[36m0:00:00\u001b[0m\n",
            "\u001b[2K     \u001b[90m━━━━━━━━━━━━━━━━━━━━━━━━━━━━━━━━━━━━━━━━\u001b[0m \u001b[32m7.6/7.6 MB\u001b[0m \u001b[31m96.7 MB/s\u001b[0m eta \u001b[36m0:00:00\u001b[0m\n",
            "\u001b[?25h"
          ]
        }
      ]
    },
    {
      "cell_type": "code",
      "source": [
        "import nltk\n",
        "nltk.download('punkt')\n",
        "nltk.download('stopwords')"
      ],
      "metadata": {
        "colab": {
          "base_uri": "https://localhost:8080/"
        },
        "id": "CR2ajnYfjfTO",
        "outputId": "23eb66e0-b174-42be-abf0-7c75954e7bdc"
      },
      "execution_count": 24,
      "outputs": [
        {
          "output_type": "stream",
          "name": "stderr",
          "text": [
            "[nltk_data] Downloading package punkt to /root/nltk_data...\n",
            "[nltk_data]   Package punkt is already up-to-date!\n",
            "[nltk_data] Downloading package stopwords to /root/nltk_data...\n",
            "[nltk_data]   Unzipping corpora/stopwords.zip.\n"
          ]
        },
        {
          "output_type": "execute_result",
          "data": {
            "text/plain": [
              "True"
            ]
          },
          "metadata": {},
          "execution_count": 24
        }
      ]
    },
    {
      "cell_type": "code",
      "source": [
        "from transformers import pipeline\n",
        "\n",
        "pipe=pipeline(\"summarization\",model='t5-small')"
      ],
      "metadata": {
        "colab": {
          "base_uri": "https://localhost:8080/",
          "height": 269,
          "referenced_widgets": [
            "3db4cd53b1824db7b0e891def6ba18be",
            "1434b0c8fc5a41638e55082890b85377",
            "0ae9494abe794b20835eecdc366c5c21",
            "35858b41acbe454f919c25db8430d663",
            "a1db5032e8154afd932947d446824839",
            "1748bb8495044f9bb2a20cbbbd4e5048",
            "ce35e505b85a41ea9303df5161d4fb0e",
            "51637197ed5d41d283f3667cc54335a0",
            "3c2e14c1831845629381aba551b09a7e",
            "f0a679baa9654e0aab80e8bfbbef57c6",
            "b69d3e0567734fd187353b36f74c9964",
            "bd8b8e7c76a442faa2696fdedba63f54",
            "eed3731d16744e518b07b03d54aa81aa",
            "0008098322f74b94b8f4240babd310d0",
            "cd5b96da256a4372b8d90cd3aa2d37af",
            "6d499163f89b4e0ca9aac745e9366fa2",
            "3857dfe0cd124a939aacb97f8988385e",
            "c0ffca945817445187802da7e305dec7",
            "0f6a8f3e5a5e46bba06c767042b80e4e",
            "7d79078ab8ab459b952db4045337c14c",
            "4ba67239d39b428792d8fe44117209e8",
            "32e9ae3ad21641e6927ed6a0db6b0d80",
            "447aae27f8f647c69cf0c39edc154ba2",
            "2ae968e20bf4485d807e263b62f5858c",
            "4fe8e9860c4343299fbf8e62102840d6",
            "46135921a02f49609f1baeabb0938a9b",
            "3ffb0028b1a04224a05ac89bf652e448",
            "ebdf1364651b49768038e7823ae602f5",
            "edeb03050ee348ae9afa4d59468a5ce2",
            "850c4cadfc4d4c11ba5d5be0b2c9a871",
            "bd445526a20b40978065b48ca3867223",
            "f7b725110de446a99f5640a0f8d3e432",
            "45a629490dd84664af228224381d3c34",
            "34709936be804579a173d14faea9a410",
            "808ce9c2cdf545f7aa4b50201d656d18",
            "43380748b618489dad22e305758c2283",
            "a24b7bdd1cc34096a6126951ef26e5a3",
            "9c30f6f478e94c73a019c938ca540a3d",
            "291af66cf0b4427786ba0da0e8f7ad6b",
            "17cf9361274249a8b29dada2db597bad",
            "5db14b76875c4dfaa52ae5f97c98fc82",
            "f2e3ac66ffe74f1ea0a87a4a6c95c58f",
            "43898f1781a04aac9d315606c7d63eae",
            "3ec2e6003f434187b4f5617d7f5b51ac"
          ]
        },
        "id": "D38jlFBgiaqA",
        "outputId": "d0d2020b-386c-4948-e501-a074ace0c7f0"
      },
      "execution_count": 14,
      "outputs": [
        {
          "output_type": "display_data",
          "data": {
            "text/plain": [
              "Downloading:   0%|          | 0.00/1.21k [00:00<?, ?B/s]"
            ],
            "application/vnd.jupyter.widget-view+json": {
              "version_major": 2,
              "version_minor": 0,
              "model_id": "3db4cd53b1824db7b0e891def6ba18be"
            }
          },
          "metadata": {}
        },
        {
          "output_type": "display_data",
          "data": {
            "text/plain": [
              "Downloading:   0%|          | 0.00/242M [00:00<?, ?B/s]"
            ],
            "application/vnd.jupyter.widget-view+json": {
              "version_major": 2,
              "version_minor": 0,
              "model_id": "bd8b8e7c76a442faa2696fdedba63f54"
            }
          },
          "metadata": {}
        },
        {
          "output_type": "display_data",
          "data": {
            "text/plain": [
              "Downloading:   0%|          | 0.00/792k [00:00<?, ?B/s]"
            ],
            "application/vnd.jupyter.widget-view+json": {
              "version_major": 2,
              "version_minor": 0,
              "model_id": "447aae27f8f647c69cf0c39edc154ba2"
            }
          },
          "metadata": {}
        },
        {
          "output_type": "display_data",
          "data": {
            "text/plain": [
              "Downloading:   0%|          | 0.00/1.39M [00:00<?, ?B/s]"
            ],
            "application/vnd.jupyter.widget-view+json": {
              "version_major": 2,
              "version_minor": 0,
              "model_id": "34709936be804579a173d14faea9a410"
            }
          },
          "metadata": {}
        },
        {
          "output_type": "stream",
          "name": "stderr",
          "text": [
            "/usr/local/lib/python3.8/dist-packages/transformers/models/t5/tokenization_t5_fast.py:155: FutureWarning: This tokenizer was incorrectly instantiated with a model max length of 512 which will be corrected in Transformers v5.\n",
            "For now, this behavior is kept to avoid breaking backwards compatibility when padding/encoding with `truncation is True`.\n",
            "- Be aware that you SHOULD NOT rely on t5-small automatically truncating your input to 512 when padding/encoding.\n",
            "- If you want to encode/pad to sequences longer than 512 you can either instantiate this tokenizer with `model_max_length` or pass `max_length` when encoding/padding.\n",
            "- To avoid this warning, please instantiate this tokenizer with `model_max_length` set to your preferred value.\n",
            "  warnings.warn(\n"
          ]
        }
      ]
    },
    {
      "cell_type": "code",
      "source": [
        "#importing libraries\n",
        "from nltk.corpus import stopwords\n",
        "from nltk.stem import PorterStemmer\n",
        "from nltk.tokenize import word_tokenize, sent_tokenize\n",
        "import bs4 as BeautifulSoup\n",
        "import urllib.request  \n",
        "\n",
        "def _create_dictionary_table(text_string) -> dict:\n",
        "   \n",
        "    #removing stop words\n",
        "    stop_words = set(stopwords.words(\"english\"))\n",
        "    \n",
        "    words = word_tokenize(text_string)\n",
        "    \n",
        "    #reducing words to their root form\n",
        "    stem = PorterStemmer()\n",
        "    \n",
        "    #creating dictionary for the word frequency table\n",
        "    frequency_table = dict()\n",
        "    for wd in words:\n",
        "        wd = stem.stem(wd)\n",
        "        if wd in stop_words:\n",
        "            continue\n",
        "        if wd in frequency_table:\n",
        "            frequency_table[wd] += 1\n",
        "        else:\n",
        "            frequency_table[wd] = 1\n",
        "\n",
        "    return frequency_table\n",
        "\n",
        "\n",
        "def _calculate_sentence_scores(sentences, frequency_table) -> dict:   \n",
        "\n",
        "    #algorithm for scoring a sentence by its words\n",
        "    sentence_weight = dict()\n",
        "\n",
        "    for sentence in sentences:\n",
        "        sentence_wordcount = (len(word_tokenize(sentence)))\n",
        "        sentence_wordcount_without_stop_words = 0\n",
        "        for word_weight in frequency_table:\n",
        "            if word_weight in sentence.lower():\n",
        "                sentence_wordcount_without_stop_words += 1\n",
        "                if sentence[:7] in sentence_weight:\n",
        "                    sentence_weight[sentence[:7]] += frequency_table[word_weight]\n",
        "                else:\n",
        "                    sentence_weight[sentence[:7]] = frequency_table[word_weight]\n",
        "\n",
        "        sentence_weight[sentence[:7]] = sentence_weight[sentence[:7]] / sentence_wordcount_without_stop_words\n",
        "\n",
        "       \n",
        "\n",
        "    return sentence_weight\n",
        "\n",
        "def _calculate_average_score(sentence_weight) -> int:\n",
        "   \n",
        "    #calculating the average score for the sentences\n",
        "    sum_values = 0\n",
        "    for entry in sentence_weight:\n",
        "        sum_values += sentence_weight[entry]\n",
        "\n",
        "    #getting sentence average value from source text\n",
        "    average_score = (sum_values / len(sentence_weight))\n",
        "\n",
        "    return average_score\n",
        "\n",
        "def _get_article_summary(sentences, sentence_weight, threshold):\n",
        "    sentence_counter = 0\n",
        "    article_summary = ''\n",
        "\n",
        "    for sentence in sentences:\n",
        "        if sentence[:7] in sentence_weight and sentence_weight[sentence[:7]] >= (threshold):\n",
        "            article_summary += \" \" + sentence\n",
        "            sentence_counter += 1\n",
        "\n",
        "    return article_summary\n",
        "\n",
        "def _run_article_summary(article):\n",
        "    \n",
        "    #creating a dictionary for the word frequency table\n",
        "    frequency_table = _create_dictionary_table(article)\n",
        "\n",
        "    #tokenizing the sentences\n",
        "    sentences = sent_tokenize(article)\n",
        "\n",
        "    #algorithm for scoring a sentence by its words\n",
        "    sentence_scores = _calculate_sentence_scores(sentences, frequency_table)\n",
        "\n",
        "    #getting the threshold\n",
        "    threshold = _calculate_average_score(sentence_scores)\n",
        "\n",
        "    #producing the summary\n",
        "    article_summary = _get_article_summary(sentences, sentence_scores, .5 * threshold)\n",
        "\n",
        "    return article_summary"
      ],
      "metadata": {
        "id": "hYt-DjrIkqTJ"
      },
      "execution_count": 28,
      "outputs": []
    },
    {
      "cell_type": "code",
      "source": [
        "from nltk.tokenize import sent_tokenize\n",
        "\n",
        "def summarize(texts):\n",
        "    summary=[]\n",
        "    \n",
        "    for text in texts:\n",
        "        summary_results = _run_article_summary(text)\n",
        "        pipe_out=pipe(summary_results)\n",
        "        summary.append(\"\\n\".join(sent_tokenize(pipe_out[0]['summary_text'])))\n",
        "    \n",
        "    return summary"
      ],
      "metadata": {
        "id": "ukBRkJQwiwud"
      },
      "execution_count": 42,
      "outputs": []
    },
    {
      "cell_type": "markdown",
      "source": [
        "# Aggregation"
      ],
      "metadata": {
        "id": "GHgmAseXm2LG"
      }
    },
    {
      "cell_type": "code",
      "source": [
        "def aggregate_results(query,sites,summaries,k):\n",
        "    print('The Query is :',query,'\\n')\n",
        "    print(f'The Top {k} Results are :')\n",
        "    for site,summary in zip(sites,summaries):\n",
        "        print('According to',site,':')\n",
        "        print('Summary: '+summary)\n",
        "        print('\\n')\n",
        "\n",
        "    return"
      ],
      "metadata": {
        "id": "HDlpG9Yjm4yh"
      },
      "execution_count": 50,
      "outputs": []
    },
    {
      "cell_type": "markdown",
      "source": [
        "# Example Runs"
      ],
      "metadata": {
        "id": "JtYfUG0WMXM2"
      }
    },
    {
      "cell_type": "code",
      "source": [
        "query='green house'\n",
        "k=3"
      ],
      "metadata": {
        "id": "RHzSkFGCnWi4"
      },
      "execution_count": 49,
      "outputs": []
    },
    {
      "cell_type": "code",
      "source": [
        "sites=return_topk(query,k)\n",
        "sites[0]"
      ],
      "metadata": {
        "colab": {
          "base_uri": "https://localhost:8080/",
          "height": 36
        },
        "id": "cfQL19Sglcd2",
        "outputId": "bd6682f1-2b78-4eb9-aca6-410863a66a9c"
      },
      "execution_count": 40,
      "outputs": [
        {
          "output_type": "execute_result",
          "data": {
            "text/plain": [
              "'https://www.iea.org/news/ministers-from-around-the-world-agree-to-speed-up-energy-efficiency-progress-to-help-tackle-global-energy-crisis'"
            ],
            "application/vnd.google.colaboratory.intrinsic+json": {
              "type": "string"
            }
          },
          "metadata": {},
          "execution_count": 40
        }
      ]
    },
    {
      "cell_type": "code",
      "source": [
        "plain_texts=scrapper_agg(sites)\n",
        "plain_texts[0][:500]"
      ],
      "metadata": {
        "colab": {
          "base_uri": "https://localhost:8080/",
          "height": 88
        },
        "id": "tpA-oLiNMNRI",
        "outputId": "24ad97d4-0cf3-4f0d-c046-0f981489d236"
      },
      "execution_count": 41,
      "outputs": [
        {
          "output_type": "execute_result",
          "data": {
            "text/plain": [
              "'Ministers from around the world agree to speed up energy efficiency progress to help tackle global energy crisis - News - IEA IEA Close Search Submit IEA Skip navigation Countries Find out about the world, a region, or a country All countries circle-arrow Explore world circle-arrow Member countries Australia Austria Belgium Canada Czech Republic Denmark Estonia Finland France Germany Greece Hungary Ireland Italy Japan Korea Lithuania Luxembourg Mexico New Zealand Norway Poland Portugal Slovak Re'"
            ],
            "application/vnd.google.colaboratory.intrinsic+json": {
              "type": "string"
            }
          },
          "metadata": {},
          "execution_count": 41
        }
      ]
    },
    {
      "cell_type": "code",
      "source": [
        "summaries=summarize(plain_texts)\n",
        "summaries[0]"
      ],
      "metadata": {
        "colab": {
          "base_uri": "https://localhost:8080/",
          "height": 88
        },
        "id": "KNRb7OJGKAam",
        "outputId": "ac743c15-19aa-41b7-da1d-440eeaf6388a"
      },
      "execution_count": 43,
      "outputs": [
        {
          "output_type": "execute_result",
          "data": {
            "text/plain": [
              "\"IEA's global conference on energy efficiency has agreed on actions to accelerate improvements in energy efficiency that can reduce energy bills, ease dependence on imported fuels and speed up reductions in greenhouse gas emissions .\\nministers from 24 countries – including france, Germany, Indonesia, Japan, Mexico, Senegal and the united states – said they intended to continue to seek opportunities for exchange and collaboration towards better policy making and implementation of energy efficiency actions .\""
            ],
            "application/vnd.google.colaboratory.intrinsic+json": {
              "type": "string"
            }
          },
          "metadata": {},
          "execution_count": 43
        }
      ]
    },
    {
      "cell_type": "code",
      "source": [
        "aggregate_results(query,sites,summaries,k)"
      ],
      "metadata": {
        "colab": {
          "base_uri": "https://localhost:8080/"
        },
        "id": "W47puddAnmD6",
        "outputId": "2cf4d4a2-ec84-4f30-9986-fad3ddddb8cd"
      },
      "execution_count": 51,
      "outputs": [
        {
          "output_type": "stream",
          "name": "stdout",
          "text": [
            "The Query is : green house \n",
            "\n",
            "The Top 3 Results are :\n",
            "According to https://www.iea.org/news/ministers-from-around-the-world-agree-to-speed-up-energy-efficiency-progress-to-help-tackle-global-energy-crisis :\n",
            "Summary: IEA's global conference on energy efficiency has agreed on actions to accelerate improvements in energy efficiency that can reduce energy bills, ease dependence on imported fuels and speed up reductions in greenhouse gas emissions .\n",
            "ministers from 24 countries – including france, Germany, Indonesia, Japan, Mexico, Senegal and the united states – said they intended to continue to seek opportunities for exchange and collaboration towards better policy making and implementation of energy efficiency actions .\n",
            "\n",
            "\n",
            "According to https://www.iea.org/news/energy-saving-actions-by-eu-citizens-could-save-enough-oil-to-fill-120-super-tankers-and-enough-natural-gas-to-heat-20-million-homes :\n",
            "Summary: energy saving actions by EU citizens could save enough oil to fill 120 super tankers and enough natural gas to heat 20 million homes .\n",
            "the actions draw on the IEA’s 10-point plan to reduce the reliance on Russian fuel and also to reduce greenhouse gas emissions .\n",
            "if all EU citizens were to follow the recommendations at home and in their workplace, it would save around €500 a year .\n",
            "\n",
            "\n",
            "According to https://www.iea.org/news/kazakhstan-has-set-out-ambitious-and-welcome-clean-energy-transition-plans-but-must-overcome-historical-reliance-on-fossil-fuels-iea-review-says :\n",
            "Summary: Kazakhstan has set out ambitious and welcome clean energy transition plans but must overcome historical reliance on fossil fuels, IEA review says .\n",
            "Kazakhstan has made ambitious commitments to reduce its greenhouse gas emissions and increase the role of renewables .\n",
            "but achieving these goals requires overcoming its dependence on cheap domestic coal and addressing its lack of flexible generating capacity .\n",
            "\n",
            "\n"
          ]
        }
      ]
    },
    {
      "cell_type": "code",
      "source": [
        "#@title Sample Text\n",
        "text='''\n",
        "Ministers from around the world agree to speed up energy efficiency progress to help tackle global energy crisis - News - IEA IEA Close Search Submit IEA Skip navigation Countries Find out about the world, a region, or a country All countries circle-arrow Explore world circle-arrow Member countries Australia Austria Belgium Canada Czech Republic Denmark Estonia Finland France Germany Greece Hungary Ireland Italy Japan Korea Lithuania Luxembourg Mexico New Zealand Norway Poland Portugal Slovak Republic Spain Sweden Switzerland The Netherlands Türkiye United Kingdom United States Accession countries Chile Colombia Israel Latvia Association countries Argentina Brazil China Egypt India Indonesia Morocco Singapore South Africa Thailand Ukraine Fuels &amp; technologies Find out about a fuel, a technology or a sector All fuels and technologies circle-arrow Fuels Coal Electricity Gas Nuclear Oil Renewables Technologies Aluminium Appliances &amp; equipment Aviation Bioenergy Building envelopes Carbon capture, utilisation and storage Cement Chemicals Cooling Data centres &amp; networks Demand response Electric vehicles Energy storage Fuel economy Heating Hydrogen Hydropower International shipping Iron &amp; steel Lighting Methane abatement Other renewables Pulp &amp; paper Rail Smart grids Solar Trucks &amp; buses Wind Analysis Explore the full range of IEA's unique analysis Reports circle-arrow Commentaries circle-arrow Flagship analysis Energy Technology Perspectives Global Energy Crisis Net Zero Emissions Oil Market Report Russia's War on Ukraine Saving Energy Tracking Clean Energy Progress World Energy Outlook All flagship analysis By topic Buildings Climate change Covid-19 Critical minerals Digitalisation Energy access Energy and gender Energy and water Energy efficiency Energy security Energy subsidies Energy transitions Industry Innovation Investment Renewable integration Transport All topics By programme Electric Vehicles Initiative Our Inclusive Energy Future Clean Energy Transitions Programme CEM Hydrogen Initiative Clean Energy Transitions in Emerging Economies Technology Collaboration Programme EU4Energy Energy Efficiency in Emerging Economies Digital Demand-Driven Electricity Networks Initiative Energy Sub-Saharan Africa All programmes Data Search, download and purchase energy data and statistics Data explorers circle-arrow Data sets circle-arrow Chart library circle-arrow About circle-arrow Data sets Free All Coal Emissions Renewables Gas Oil Electricity Efficiency Scenarios Balances/statistics Prices Other Data explorers Statistics Forecasts &amp; estimates Scenarios Monthly &amp; real-time Policies Technologies &amp; innovation Simulations &amp; calculators Maps Policies Search, filter and find energy-related policies About policies circle-arrow All policies circle-arrow By topic Cities Critical Minerals Electrification Energy Efficiency Energy Poverty Methane abatement Renewable Energy Technology R&amp;D and innovation By sector Buildings Economy-wide (Multi-sector) Power, Heat and Utilities Electricity and heat generation Transport Power generation Residential Road transport By type Payments, finance and taxation Regulation Payments and transfers Targets, plans and framework legislation Grants Strategic plans Information and education Codes and standards About Shaping a secure and sustainable energy future Areas of work circle-arrow About IEA circle-arrow Areas of work Promoting energy efficiency International collaborations Data and statistics Training Technology collaboration Energy security Global engagement Industry engagement Programmes and partnerships Promoting digital demand-driven electricity networks About IEA History Leadership Membership Mission Structure News Latest news Events Calendar Past events Search Bag 1 User Profile Search Sign In Flyout close Email * Error Password * Forgot password? Error Checkbox Remember me Sign in Sign in Create an account Create a free IEA account to download our reports or subcribe to a paid service. Join for free Join for free Press release Ministers from around the world agree to speed up energy efficiency progress to help tackle global energy crisis 10 June 2022 Global energy and climate leaders meeting at the IEA’s Global Conference on Energy Efficiency have agreed on actions to accelerate improvements in energy efficiency that can reduce energy bills, ease dependence on imported fuels and speed up reductions in greenhouse gas emissions. At the end of the three-day Global Conference in Sønderborg, Denmark, on 7-9 June, ministers and other senior representatives from 24 countries – including France, Germany, Indonesia, Japan, Mexico, Senegal and the United States – and the African and European Unions issued a joint statement stressing the importance of energy efficiency for addressing many of today’s critical challenges, including the energy crisis, inflationary pressures and rising greenhouse gas emissions. “Energy efficiency and demand side action have a particularly important role to play now as global energy prices are high and volatile, hurting households, industries and entire economies,” the joint statement said. “Energy efficiency offers immediate opportunities to reduce energy costs and reduce reliance on imported fuels.” The statement also welcomed “the new IEA research highlighting the significant environmental, economic and social benefits of early action on energy efficiency.” The governments said they intended “to continue to seek opportunities for exchange and collaboration towards better policy making and implementation of energy efficiency actions.” They asked the IEA “to continue to facilitate and support these actions” and called on “all governments, industry, enterprises and stakeholders to strengthen their action on energy efficiency.” IEA Executive Director Fatih Birol said: “The IEA started the Global Conference on Energy Efficiency seven years ago in order to drive a high-level worldwide discussion on an area that we saw was not getting the policy attention it deserved. This week’s conference has shown the value of these efforts, not just in bringing together energy and climate leaders from around the world – but also in increasing ambition and action on efficiency to help tackle the global energy crisis. I believe we will look back at this conference as a key moment for bolstering international progress on energy efficiency, resulting in reduced energy bills for citizens, enhanced energy security for countries and lower emissions for our planet.” The Global Conference was co-hosted by Denmark’s Minister of Climate, Energy and Utilities Dan Jørgensen, who said: “This is a global recognition of energy efficiency and its importance for our climate as well as our push for energy independence. If we work together, share our knowledge and showcase our different technologies, as we have shown ours here in Denmark, we can increase our global efforts for energy efficiency.” Ministers in attendance included those from Denmark, Germany, Hungary, Indonesia, Ireland, New Zealand, Nigeria, Panama, Senegal, Sweden and the United Kingdom. Participants also included the African Union Commissioner for Infrastructure and Energy Amani Abou-Zeid and European Commissioner for Energy Kadri Simson. Ukrainian Energy Minister Herman Halushchenko addressed the Conference live via video link. Over the three days, participants discussed issues such as buildings of the future, the role of consumer behaviour, and how to unlock financing for efficiency measures. The final day today included a unique closed-door session where Ministers shared best practices on how to put intentions into action. According to the new IEA analysis , doubling the current global rate of energy intensity improvement to 4% a year has the potential to avoid 95 exajoules a year of final energy consumption by the end of this decade compared with a pathway based on today’s policy settings. This is equivalent to the current annual energy use of China. That level of savings would reduce global CO2 emissions by an additional 5 billion tonnes a year by 2030, about a third of the total emissions reduction efforts needed this decade to move the world onto a pathway to net zero emissions by mid-century, as laid out in the Net Zero Roadmap the IEA published last year. These extra efforts on efficiency and related areas would cut global spending on energy. For example, households alone could save at least USD 650 billion a year on energy bills by the end of the decade compared with what they would have spent in a pathway based on today’s policies. The quantity of natural gas the world would avoid using is equal to four times what Europe imported from Russia last year, while the reduced oil consumption would be almost 30 million barrels of oil per day, about triple Russia’s average production in 2021. This global efficiency effort would help create 10 million additional jobs in fields ranging from building retrofits to manufacturing and transport infrastructure. The new IEA analysis shows the significant opportunities for rapid energy efficiency gains in all sectors of the global economy. Most of these opportunities involve readily available technologies and would fully pay for themselves through lower running costs, especially at today’s steep energy prices. By 2030, around a third of the avoided energy demand comes from deploying more efficient equipment, ranging from air conditioners to cars. About a fifth comes from electrification, such as switching to heat pumps or electric cars. Digitalisation and use of more efficient materials in industry provide much of the rest. Governments issue joint statement after IEA Global Conference in Denmark, highlighting efficiency’s benefits for energy security, affordability and sustainability Read the report This report underscores the vital role of energy efficiency and energy saving in meeting today’s crises by immediately addressing the crippling impacts of the spike in energy prices, strengthening energy security and tackling climate change. Explore report circle-arrow Report The value of urgent action on energy efficiency June 2022 Latest news All news circle-arrow The world is entering a new age of clean technology manufacturing, and countries’ industrial strategies will be key to success News — 12 January 2023 Executive Director meets with Prime Minister Fumio Kishida of Japan on energy crisis and G7 News — 09 January 2023 Hydrogen patents indicate shift towards clean technologies such as electrolysis, according to new joint study by IEA and EPO News — 10 January 2023 The world’s coal consumption is set to reach a new high in 2022 as the energy crisis shakes markets News — 16 December 2022 The Energy Mix Keep up to date with our latest news and analysis by subscribing to our regular newsletter Error Subscribe Explore our other newsletters Browse Countries Fuels and technologies Topics Explore Analysis Data and statistics Learn About Areas of work News Events Connect Help centre Contact Jobs arrow-north-east Delegates arrow-north-east Follow twitter facebook linkedin youtube instagram IEA ©IEA 2023 Terms Privacy Back to top Subscription successful Close dialog Thank you for subscribing. You can unsubscribe at any time by clicking the link at the bottom of any IEA newsletter.\n",
        "'''"
      ],
      "metadata": {
        "id": "rrSKmy9HMQkh",
        "cellView": "form"
      },
      "execution_count": 8,
      "outputs": []
    }
  ]
}
