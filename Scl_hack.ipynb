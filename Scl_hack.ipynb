{
  "nbformat": 4,
  "nbformat_minor": 0,
  "metadata": {
    "colab": {
      "provenance": [],
      "toc_visible": true,
      "authorship_tag": "ABX9TyPK4OKknz77+/WlHJls0W0V",
      "include_colab_link": true
    },
    "kernelspec": {
      "name": "python3",
      "display_name": "Python 3"
    },
    "language_info": {
      "name": "python"
    },
    "accelerator": "GPU",
    "gpuClass": "standard",
    "widgets": {
      "application/vnd.jupyter.widget-state+json": {
        "0e4b266bedcf42a8a2370c0d70a756e7": {
          "model_module": "@jupyter-widgets/controls",
          "model_name": "HBoxModel",
          "model_module_version": "1.5.0",
          "state": {
            "_dom_classes": [],
            "_model_module": "@jupyter-widgets/controls",
            "_model_module_version": "1.5.0",
            "_model_name": "HBoxModel",
            "_view_count": null,
            "_view_module": "@jupyter-widgets/controls",
            "_view_module_version": "1.5.0",
            "_view_name": "HBoxView",
            "box_style": "",
            "children": [
              "IPY_MODEL_564abaa0c2684c179f3ceff235868ed3",
              "IPY_MODEL_82623b30ec5e4e119485b07887fc1fd1",
              "IPY_MODEL_8c5e44f0259d4499917843791b0a5df2"
            ],
            "layout": "IPY_MODEL_ffb4321f0d254eb6a92448a745ac8b81"
          }
        },
        "564abaa0c2684c179f3ceff235868ed3": {
          "model_module": "@jupyter-widgets/controls",
          "model_name": "HTMLModel",
          "model_module_version": "1.5.0",
          "state": {
            "_dom_classes": [],
            "_model_module": "@jupyter-widgets/controls",
            "_model_module_version": "1.5.0",
            "_model_name": "HTMLModel",
            "_view_count": null,
            "_view_module": "@jupyter-widgets/controls",
            "_view_module_version": "1.5.0",
            "_view_name": "HTMLView",
            "description": "",
            "description_tooltip": null,
            "layout": "IPY_MODEL_c216f4a3fb6e465a837d0b1240ef3420",
            "placeholder": "​",
            "style": "IPY_MODEL_d327cafce40043b688ce8ac7fe810c5e",
            "value": "Downloading: 100%"
          }
        },
        "82623b30ec5e4e119485b07887fc1fd1": {
          "model_module": "@jupyter-widgets/controls",
          "model_name": "FloatProgressModel",
          "model_module_version": "1.5.0",
          "state": {
            "_dom_classes": [],
            "_model_module": "@jupyter-widgets/controls",
            "_model_module_version": "1.5.0",
            "_model_name": "FloatProgressModel",
            "_view_count": null,
            "_view_module": "@jupyter-widgets/controls",
            "_view_module_version": "1.5.0",
            "_view_name": "ProgressView",
            "bar_style": "success",
            "description": "",
            "description_tooltip": null,
            "layout": "IPY_MODEL_cbb635a023f14e0ab28c7f3271033125",
            "max": 1206,
            "min": 0,
            "orientation": "horizontal",
            "style": "IPY_MODEL_3cda2c0993b54de1a4afc58634f0cfe0",
            "value": 1206
          }
        },
        "8c5e44f0259d4499917843791b0a5df2": {
          "model_module": "@jupyter-widgets/controls",
          "model_name": "HTMLModel",
          "model_module_version": "1.5.0",
          "state": {
            "_dom_classes": [],
            "_model_module": "@jupyter-widgets/controls",
            "_model_module_version": "1.5.0",
            "_model_name": "HTMLModel",
            "_view_count": null,
            "_view_module": "@jupyter-widgets/controls",
            "_view_module_version": "1.5.0",
            "_view_name": "HTMLView",
            "description": "",
            "description_tooltip": null,
            "layout": "IPY_MODEL_e62ef04d14504aa3b2025b487d32719d",
            "placeholder": "​",
            "style": "IPY_MODEL_8d69526602d543e19664ca679d20b3db",
            "value": " 1.21k/1.21k [00:00&lt;00:00, 65.9kB/s]"
          }
        },
        "ffb4321f0d254eb6a92448a745ac8b81": {
          "model_module": "@jupyter-widgets/base",
          "model_name": "LayoutModel",
          "model_module_version": "1.2.0",
          "state": {
            "_model_module": "@jupyter-widgets/base",
            "_model_module_version": "1.2.0",
            "_model_name": "LayoutModel",
            "_view_count": null,
            "_view_module": "@jupyter-widgets/base",
            "_view_module_version": "1.2.0",
            "_view_name": "LayoutView",
            "align_content": null,
            "align_items": null,
            "align_self": null,
            "border": null,
            "bottom": null,
            "display": null,
            "flex": null,
            "flex_flow": null,
            "grid_area": null,
            "grid_auto_columns": null,
            "grid_auto_flow": null,
            "grid_auto_rows": null,
            "grid_column": null,
            "grid_gap": null,
            "grid_row": null,
            "grid_template_areas": null,
            "grid_template_columns": null,
            "grid_template_rows": null,
            "height": null,
            "justify_content": null,
            "justify_items": null,
            "left": null,
            "margin": null,
            "max_height": null,
            "max_width": null,
            "min_height": null,
            "min_width": null,
            "object_fit": null,
            "object_position": null,
            "order": null,
            "overflow": null,
            "overflow_x": null,
            "overflow_y": null,
            "padding": null,
            "right": null,
            "top": null,
            "visibility": null,
            "width": null
          }
        },
        "c216f4a3fb6e465a837d0b1240ef3420": {
          "model_module": "@jupyter-widgets/base",
          "model_name": "LayoutModel",
          "model_module_version": "1.2.0",
          "state": {
            "_model_module": "@jupyter-widgets/base",
            "_model_module_version": "1.2.0",
            "_model_name": "LayoutModel",
            "_view_count": null,
            "_view_module": "@jupyter-widgets/base",
            "_view_module_version": "1.2.0",
            "_view_name": "LayoutView",
            "align_content": null,
            "align_items": null,
            "align_self": null,
            "border": null,
            "bottom": null,
            "display": null,
            "flex": null,
            "flex_flow": null,
            "grid_area": null,
            "grid_auto_columns": null,
            "grid_auto_flow": null,
            "grid_auto_rows": null,
            "grid_column": null,
            "grid_gap": null,
            "grid_row": null,
            "grid_template_areas": null,
            "grid_template_columns": null,
            "grid_template_rows": null,
            "height": null,
            "justify_content": null,
            "justify_items": null,
            "left": null,
            "margin": null,
            "max_height": null,
            "max_width": null,
            "min_height": null,
            "min_width": null,
            "object_fit": null,
            "object_position": null,
            "order": null,
            "overflow": null,
            "overflow_x": null,
            "overflow_y": null,
            "padding": null,
            "right": null,
            "top": null,
            "visibility": null,
            "width": null
          }
        },
        "d327cafce40043b688ce8ac7fe810c5e": {
          "model_module": "@jupyter-widgets/controls",
          "model_name": "DescriptionStyleModel",
          "model_module_version": "1.5.0",
          "state": {
            "_model_module": "@jupyter-widgets/controls",
            "_model_module_version": "1.5.0",
            "_model_name": "DescriptionStyleModel",
            "_view_count": null,
            "_view_module": "@jupyter-widgets/base",
            "_view_module_version": "1.2.0",
            "_view_name": "StyleView",
            "description_width": ""
          }
        },
        "cbb635a023f14e0ab28c7f3271033125": {
          "model_module": "@jupyter-widgets/base",
          "model_name": "LayoutModel",
          "model_module_version": "1.2.0",
          "state": {
            "_model_module": "@jupyter-widgets/base",
            "_model_module_version": "1.2.0",
            "_model_name": "LayoutModel",
            "_view_count": null,
            "_view_module": "@jupyter-widgets/base",
            "_view_module_version": "1.2.0",
            "_view_name": "LayoutView",
            "align_content": null,
            "align_items": null,
            "align_self": null,
            "border": null,
            "bottom": null,
            "display": null,
            "flex": null,
            "flex_flow": null,
            "grid_area": null,
            "grid_auto_columns": null,
            "grid_auto_flow": null,
            "grid_auto_rows": null,
            "grid_column": null,
            "grid_gap": null,
            "grid_row": null,
            "grid_template_areas": null,
            "grid_template_columns": null,
            "grid_template_rows": null,
            "height": null,
            "justify_content": null,
            "justify_items": null,
            "left": null,
            "margin": null,
            "max_height": null,
            "max_width": null,
            "min_height": null,
            "min_width": null,
            "object_fit": null,
            "object_position": null,
            "order": null,
            "overflow": null,
            "overflow_x": null,
            "overflow_y": null,
            "padding": null,
            "right": null,
            "top": null,
            "visibility": null,
            "width": null
          }
        },
        "3cda2c0993b54de1a4afc58634f0cfe0": {
          "model_module": "@jupyter-widgets/controls",
          "model_name": "ProgressStyleModel",
          "model_module_version": "1.5.0",
          "state": {
            "_model_module": "@jupyter-widgets/controls",
            "_model_module_version": "1.5.0",
            "_model_name": "ProgressStyleModel",
            "_view_count": null,
            "_view_module": "@jupyter-widgets/base",
            "_view_module_version": "1.2.0",
            "_view_name": "StyleView",
            "bar_color": null,
            "description_width": ""
          }
        },
        "e62ef04d14504aa3b2025b487d32719d": {
          "model_module": "@jupyter-widgets/base",
          "model_name": "LayoutModel",
          "model_module_version": "1.2.0",
          "state": {
            "_model_module": "@jupyter-widgets/base",
            "_model_module_version": "1.2.0",
            "_model_name": "LayoutModel",
            "_view_count": null,
            "_view_module": "@jupyter-widgets/base",
            "_view_module_version": "1.2.0",
            "_view_name": "LayoutView",
            "align_content": null,
            "align_items": null,
            "align_self": null,
            "border": null,
            "bottom": null,
            "display": null,
            "flex": null,
            "flex_flow": null,
            "grid_area": null,
            "grid_auto_columns": null,
            "grid_auto_flow": null,
            "grid_auto_rows": null,
            "grid_column": null,
            "grid_gap": null,
            "grid_row": null,
            "grid_template_areas": null,
            "grid_template_columns": null,
            "grid_template_rows": null,
            "height": null,
            "justify_content": null,
            "justify_items": null,
            "left": null,
            "margin": null,
            "max_height": null,
            "max_width": null,
            "min_height": null,
            "min_width": null,
            "object_fit": null,
            "object_position": null,
            "order": null,
            "overflow": null,
            "overflow_x": null,
            "overflow_y": null,
            "padding": null,
            "right": null,
            "top": null,
            "visibility": null,
            "width": null
          }
        },
        "8d69526602d543e19664ca679d20b3db": {
          "model_module": "@jupyter-widgets/controls",
          "model_name": "DescriptionStyleModel",
          "model_module_version": "1.5.0",
          "state": {
            "_model_module": "@jupyter-widgets/controls",
            "_model_module_version": "1.5.0",
            "_model_name": "DescriptionStyleModel",
            "_view_count": null,
            "_view_module": "@jupyter-widgets/base",
            "_view_module_version": "1.2.0",
            "_view_name": "StyleView",
            "description_width": ""
          }
        },
        "32175f58f8b3462aa17d669780cba6c1": {
          "model_module": "@jupyter-widgets/controls",
          "model_name": "HBoxModel",
          "model_module_version": "1.5.0",
          "state": {
            "_dom_classes": [],
            "_model_module": "@jupyter-widgets/controls",
            "_model_module_version": "1.5.0",
            "_model_name": "HBoxModel",
            "_view_count": null,
            "_view_module": "@jupyter-widgets/controls",
            "_view_module_version": "1.5.0",
            "_view_name": "HBoxView",
            "box_style": "",
            "children": [
              "IPY_MODEL_a3be4901c04f48e78908024d4550d769",
              "IPY_MODEL_a23c102e8a0b439c811b0f205c0b974b",
              "IPY_MODEL_72bed24eeaa34bf6bd2c039a0caee878"
            ],
            "layout": "IPY_MODEL_89f37e4af56a4290b08a45bedd59a859"
          }
        },
        "a3be4901c04f48e78908024d4550d769": {
          "model_module": "@jupyter-widgets/controls",
          "model_name": "HTMLModel",
          "model_module_version": "1.5.0",
          "state": {
            "_dom_classes": [],
            "_model_module": "@jupyter-widgets/controls",
            "_model_module_version": "1.5.0",
            "_model_name": "HTMLModel",
            "_view_count": null,
            "_view_module": "@jupyter-widgets/controls",
            "_view_module_version": "1.5.0",
            "_view_name": "HTMLView",
            "description": "",
            "description_tooltip": null,
            "layout": "IPY_MODEL_079a876245b24b2082a087452c5ec118",
            "placeholder": "​",
            "style": "IPY_MODEL_c5ad443d8e8b4960a2ee7931755ff12f",
            "value": "Downloading: 100%"
          }
        },
        "a23c102e8a0b439c811b0f205c0b974b": {
          "model_module": "@jupyter-widgets/controls",
          "model_name": "FloatProgressModel",
          "model_module_version": "1.5.0",
          "state": {
            "_dom_classes": [],
            "_model_module": "@jupyter-widgets/controls",
            "_model_module_version": "1.5.0",
            "_model_name": "FloatProgressModel",
            "_view_count": null,
            "_view_module": "@jupyter-widgets/controls",
            "_view_module_version": "1.5.0",
            "_view_name": "ProgressView",
            "bar_style": "success",
            "description": "",
            "description_tooltip": null,
            "layout": "IPY_MODEL_199f9ff3e2e342d4baeb9ce2ed343709",
            "max": 242065649,
            "min": 0,
            "orientation": "horizontal",
            "style": "IPY_MODEL_14373eaf5d5d49d2b22bd6a75924197b",
            "value": 242065649
          }
        },
        "72bed24eeaa34bf6bd2c039a0caee878": {
          "model_module": "@jupyter-widgets/controls",
          "model_name": "HTMLModel",
          "model_module_version": "1.5.0",
          "state": {
            "_dom_classes": [],
            "_model_module": "@jupyter-widgets/controls",
            "_model_module_version": "1.5.0",
            "_model_name": "HTMLModel",
            "_view_count": null,
            "_view_module": "@jupyter-widgets/controls",
            "_view_module_version": "1.5.0",
            "_view_name": "HTMLView",
            "description": "",
            "description_tooltip": null,
            "layout": "IPY_MODEL_43e2057fe770477bb9323d2d10d201c5",
            "placeholder": "​",
            "style": "IPY_MODEL_34a297a1226f44b098fd5b1d774d9e0f",
            "value": " 242M/242M [00:05&lt;00:00, 36.7MB/s]"
          }
        },
        "89f37e4af56a4290b08a45bedd59a859": {
          "model_module": "@jupyter-widgets/base",
          "model_name": "LayoutModel",
          "model_module_version": "1.2.0",
          "state": {
            "_model_module": "@jupyter-widgets/base",
            "_model_module_version": "1.2.0",
            "_model_name": "LayoutModel",
            "_view_count": null,
            "_view_module": "@jupyter-widgets/base",
            "_view_module_version": "1.2.0",
            "_view_name": "LayoutView",
            "align_content": null,
            "align_items": null,
            "align_self": null,
            "border": null,
            "bottom": null,
            "display": null,
            "flex": null,
            "flex_flow": null,
            "grid_area": null,
            "grid_auto_columns": null,
            "grid_auto_flow": null,
            "grid_auto_rows": null,
            "grid_column": null,
            "grid_gap": null,
            "grid_row": null,
            "grid_template_areas": null,
            "grid_template_columns": null,
            "grid_template_rows": null,
            "height": null,
            "justify_content": null,
            "justify_items": null,
            "left": null,
            "margin": null,
            "max_height": null,
            "max_width": null,
            "min_height": null,
            "min_width": null,
            "object_fit": null,
            "object_position": null,
            "order": null,
            "overflow": null,
            "overflow_x": null,
            "overflow_y": null,
            "padding": null,
            "right": null,
            "top": null,
            "visibility": null,
            "width": null
          }
        },
        "079a876245b24b2082a087452c5ec118": {
          "model_module": "@jupyter-widgets/base",
          "model_name": "LayoutModel",
          "model_module_version": "1.2.0",
          "state": {
            "_model_module": "@jupyter-widgets/base",
            "_model_module_version": "1.2.0",
            "_model_name": "LayoutModel",
            "_view_count": null,
            "_view_module": "@jupyter-widgets/base",
            "_view_module_version": "1.2.0",
            "_view_name": "LayoutView",
            "align_content": null,
            "align_items": null,
            "align_self": null,
            "border": null,
            "bottom": null,
            "display": null,
            "flex": null,
            "flex_flow": null,
            "grid_area": null,
            "grid_auto_columns": null,
            "grid_auto_flow": null,
            "grid_auto_rows": null,
            "grid_column": null,
            "grid_gap": null,
            "grid_row": null,
            "grid_template_areas": null,
            "grid_template_columns": null,
            "grid_template_rows": null,
            "height": null,
            "justify_content": null,
            "justify_items": null,
            "left": null,
            "margin": null,
            "max_height": null,
            "max_width": null,
            "min_height": null,
            "min_width": null,
            "object_fit": null,
            "object_position": null,
            "order": null,
            "overflow": null,
            "overflow_x": null,
            "overflow_y": null,
            "padding": null,
            "right": null,
            "top": null,
            "visibility": null,
            "width": null
          }
        },
        "c5ad443d8e8b4960a2ee7931755ff12f": {
          "model_module": "@jupyter-widgets/controls",
          "model_name": "DescriptionStyleModel",
          "model_module_version": "1.5.0",
          "state": {
            "_model_module": "@jupyter-widgets/controls",
            "_model_module_version": "1.5.0",
            "_model_name": "DescriptionStyleModel",
            "_view_count": null,
            "_view_module": "@jupyter-widgets/base",
            "_view_module_version": "1.2.0",
            "_view_name": "StyleView",
            "description_width": ""
          }
        },
        "199f9ff3e2e342d4baeb9ce2ed343709": {
          "model_module": "@jupyter-widgets/base",
          "model_name": "LayoutModel",
          "model_module_version": "1.2.0",
          "state": {
            "_model_module": "@jupyter-widgets/base",
            "_model_module_version": "1.2.0",
            "_model_name": "LayoutModel",
            "_view_count": null,
            "_view_module": "@jupyter-widgets/base",
            "_view_module_version": "1.2.0",
            "_view_name": "LayoutView",
            "align_content": null,
            "align_items": null,
            "align_self": null,
            "border": null,
            "bottom": null,
            "display": null,
            "flex": null,
            "flex_flow": null,
            "grid_area": null,
            "grid_auto_columns": null,
            "grid_auto_flow": null,
            "grid_auto_rows": null,
            "grid_column": null,
            "grid_gap": null,
            "grid_row": null,
            "grid_template_areas": null,
            "grid_template_columns": null,
            "grid_template_rows": null,
            "height": null,
            "justify_content": null,
            "justify_items": null,
            "left": null,
            "margin": null,
            "max_height": null,
            "max_width": null,
            "min_height": null,
            "min_width": null,
            "object_fit": null,
            "object_position": null,
            "order": null,
            "overflow": null,
            "overflow_x": null,
            "overflow_y": null,
            "padding": null,
            "right": null,
            "top": null,
            "visibility": null,
            "width": null
          }
        },
        "14373eaf5d5d49d2b22bd6a75924197b": {
          "model_module": "@jupyter-widgets/controls",
          "model_name": "ProgressStyleModel",
          "model_module_version": "1.5.0",
          "state": {
            "_model_module": "@jupyter-widgets/controls",
            "_model_module_version": "1.5.0",
            "_model_name": "ProgressStyleModel",
            "_view_count": null,
            "_view_module": "@jupyter-widgets/base",
            "_view_module_version": "1.2.0",
            "_view_name": "StyleView",
            "bar_color": null,
            "description_width": ""
          }
        },
        "43e2057fe770477bb9323d2d10d201c5": {
          "model_module": "@jupyter-widgets/base",
          "model_name": "LayoutModel",
          "model_module_version": "1.2.0",
          "state": {
            "_model_module": "@jupyter-widgets/base",
            "_model_module_version": "1.2.0",
            "_model_name": "LayoutModel",
            "_view_count": null,
            "_view_module": "@jupyter-widgets/base",
            "_view_module_version": "1.2.0",
            "_view_name": "LayoutView",
            "align_content": null,
            "align_items": null,
            "align_self": null,
            "border": null,
            "bottom": null,
            "display": null,
            "flex": null,
            "flex_flow": null,
            "grid_area": null,
            "grid_auto_columns": null,
            "grid_auto_flow": null,
            "grid_auto_rows": null,
            "grid_column": null,
            "grid_gap": null,
            "grid_row": null,
            "grid_template_areas": null,
            "grid_template_columns": null,
            "grid_template_rows": null,
            "height": null,
            "justify_content": null,
            "justify_items": null,
            "left": null,
            "margin": null,
            "max_height": null,
            "max_width": null,
            "min_height": null,
            "min_width": null,
            "object_fit": null,
            "object_position": null,
            "order": null,
            "overflow": null,
            "overflow_x": null,
            "overflow_y": null,
            "padding": null,
            "right": null,
            "top": null,
            "visibility": null,
            "width": null
          }
        },
        "34a297a1226f44b098fd5b1d774d9e0f": {
          "model_module": "@jupyter-widgets/controls",
          "model_name": "DescriptionStyleModel",
          "model_module_version": "1.5.0",
          "state": {
            "_model_module": "@jupyter-widgets/controls",
            "_model_module_version": "1.5.0",
            "_model_name": "DescriptionStyleModel",
            "_view_count": null,
            "_view_module": "@jupyter-widgets/base",
            "_view_module_version": "1.2.0",
            "_view_name": "StyleView",
            "description_width": ""
          }
        },
        "dc78a7cbb33348daab51a3cfddfef20b": {
          "model_module": "@jupyter-widgets/controls",
          "model_name": "HBoxModel",
          "model_module_version": "1.5.0",
          "state": {
            "_dom_classes": [],
            "_model_module": "@jupyter-widgets/controls",
            "_model_module_version": "1.5.0",
            "_model_name": "HBoxModel",
            "_view_count": null,
            "_view_module": "@jupyter-widgets/controls",
            "_view_module_version": "1.5.0",
            "_view_name": "HBoxView",
            "box_style": "",
            "children": [
              "IPY_MODEL_f8815a39cd5d4b31aff47df1e8fa8191",
              "IPY_MODEL_19cfc6658b434e12841f07d40c3c3e09",
              "IPY_MODEL_e1ac0cdbe2b442bb9a3c31891d99169a"
            ],
            "layout": "IPY_MODEL_5de2f2c5f6aa4f2380aa75b3efe4a6e4"
          }
        },
        "f8815a39cd5d4b31aff47df1e8fa8191": {
          "model_module": "@jupyter-widgets/controls",
          "model_name": "HTMLModel",
          "model_module_version": "1.5.0",
          "state": {
            "_dom_classes": [],
            "_model_module": "@jupyter-widgets/controls",
            "_model_module_version": "1.5.0",
            "_model_name": "HTMLModel",
            "_view_count": null,
            "_view_module": "@jupyter-widgets/controls",
            "_view_module_version": "1.5.0",
            "_view_name": "HTMLView",
            "description": "",
            "description_tooltip": null,
            "layout": "IPY_MODEL_a072502137ef4d85a3539ab67467fdd1",
            "placeholder": "​",
            "style": "IPY_MODEL_302c4db07aa9480992fe87b383540520",
            "value": "Downloading: 100%"
          }
        },
        "19cfc6658b434e12841f07d40c3c3e09": {
          "model_module": "@jupyter-widgets/controls",
          "model_name": "FloatProgressModel",
          "model_module_version": "1.5.0",
          "state": {
            "_dom_classes": [],
            "_model_module": "@jupyter-widgets/controls",
            "_model_module_version": "1.5.0",
            "_model_name": "FloatProgressModel",
            "_view_count": null,
            "_view_module": "@jupyter-widgets/controls",
            "_view_module_version": "1.5.0",
            "_view_name": "ProgressView",
            "bar_style": "success",
            "description": "",
            "description_tooltip": null,
            "layout": "IPY_MODEL_bcb6dd2a42e84d28aabdc03635e29098",
            "max": 791656,
            "min": 0,
            "orientation": "horizontal",
            "style": "IPY_MODEL_010dca1090884cb4a8bc0f6fa7164edc",
            "value": 791656
          }
        },
        "e1ac0cdbe2b442bb9a3c31891d99169a": {
          "model_module": "@jupyter-widgets/controls",
          "model_name": "HTMLModel",
          "model_module_version": "1.5.0",
          "state": {
            "_dom_classes": [],
            "_model_module": "@jupyter-widgets/controls",
            "_model_module_version": "1.5.0",
            "_model_name": "HTMLModel",
            "_view_count": null,
            "_view_module": "@jupyter-widgets/controls",
            "_view_module_version": "1.5.0",
            "_view_name": "HTMLView",
            "description": "",
            "description_tooltip": null,
            "layout": "IPY_MODEL_86843cee5bc74047b24923fa804dec85",
            "placeholder": "​",
            "style": "IPY_MODEL_5092cfd6ebe5410c8c381ec21fbfa63c",
            "value": " 792k/792k [00:01&lt;00:00, 735kB/s]"
          }
        },
        "5de2f2c5f6aa4f2380aa75b3efe4a6e4": {
          "model_module": "@jupyter-widgets/base",
          "model_name": "LayoutModel",
          "model_module_version": "1.2.0",
          "state": {
            "_model_module": "@jupyter-widgets/base",
            "_model_module_version": "1.2.0",
            "_model_name": "LayoutModel",
            "_view_count": null,
            "_view_module": "@jupyter-widgets/base",
            "_view_module_version": "1.2.0",
            "_view_name": "LayoutView",
            "align_content": null,
            "align_items": null,
            "align_self": null,
            "border": null,
            "bottom": null,
            "display": null,
            "flex": null,
            "flex_flow": null,
            "grid_area": null,
            "grid_auto_columns": null,
            "grid_auto_flow": null,
            "grid_auto_rows": null,
            "grid_column": null,
            "grid_gap": null,
            "grid_row": null,
            "grid_template_areas": null,
            "grid_template_columns": null,
            "grid_template_rows": null,
            "height": null,
            "justify_content": null,
            "justify_items": null,
            "left": null,
            "margin": null,
            "max_height": null,
            "max_width": null,
            "min_height": null,
            "min_width": null,
            "object_fit": null,
            "object_position": null,
            "order": null,
            "overflow": null,
            "overflow_x": null,
            "overflow_y": null,
            "padding": null,
            "right": null,
            "top": null,
            "visibility": null,
            "width": null
          }
        },
        "a072502137ef4d85a3539ab67467fdd1": {
          "model_module": "@jupyter-widgets/base",
          "model_name": "LayoutModel",
          "model_module_version": "1.2.0",
          "state": {
            "_model_module": "@jupyter-widgets/base",
            "_model_module_version": "1.2.0",
            "_model_name": "LayoutModel",
            "_view_count": null,
            "_view_module": "@jupyter-widgets/base",
            "_view_module_version": "1.2.0",
            "_view_name": "LayoutView",
            "align_content": null,
            "align_items": null,
            "align_self": null,
            "border": null,
            "bottom": null,
            "display": null,
            "flex": null,
            "flex_flow": null,
            "grid_area": null,
            "grid_auto_columns": null,
            "grid_auto_flow": null,
            "grid_auto_rows": null,
            "grid_column": null,
            "grid_gap": null,
            "grid_row": null,
            "grid_template_areas": null,
            "grid_template_columns": null,
            "grid_template_rows": null,
            "height": null,
            "justify_content": null,
            "justify_items": null,
            "left": null,
            "margin": null,
            "max_height": null,
            "max_width": null,
            "min_height": null,
            "min_width": null,
            "object_fit": null,
            "object_position": null,
            "order": null,
            "overflow": null,
            "overflow_x": null,
            "overflow_y": null,
            "padding": null,
            "right": null,
            "top": null,
            "visibility": null,
            "width": null
          }
        },
        "302c4db07aa9480992fe87b383540520": {
          "model_module": "@jupyter-widgets/controls",
          "model_name": "DescriptionStyleModel",
          "model_module_version": "1.5.0",
          "state": {
            "_model_module": "@jupyter-widgets/controls",
            "_model_module_version": "1.5.0",
            "_model_name": "DescriptionStyleModel",
            "_view_count": null,
            "_view_module": "@jupyter-widgets/base",
            "_view_module_version": "1.2.0",
            "_view_name": "StyleView",
            "description_width": ""
          }
        },
        "bcb6dd2a42e84d28aabdc03635e29098": {
          "model_module": "@jupyter-widgets/base",
          "model_name": "LayoutModel",
          "model_module_version": "1.2.0",
          "state": {
            "_model_module": "@jupyter-widgets/base",
            "_model_module_version": "1.2.0",
            "_model_name": "LayoutModel",
            "_view_count": null,
            "_view_module": "@jupyter-widgets/base",
            "_view_module_version": "1.2.0",
            "_view_name": "LayoutView",
            "align_content": null,
            "align_items": null,
            "align_self": null,
            "border": null,
            "bottom": null,
            "display": null,
            "flex": null,
            "flex_flow": null,
            "grid_area": null,
            "grid_auto_columns": null,
            "grid_auto_flow": null,
            "grid_auto_rows": null,
            "grid_column": null,
            "grid_gap": null,
            "grid_row": null,
            "grid_template_areas": null,
            "grid_template_columns": null,
            "grid_template_rows": null,
            "height": null,
            "justify_content": null,
            "justify_items": null,
            "left": null,
            "margin": null,
            "max_height": null,
            "max_width": null,
            "min_height": null,
            "min_width": null,
            "object_fit": null,
            "object_position": null,
            "order": null,
            "overflow": null,
            "overflow_x": null,
            "overflow_y": null,
            "padding": null,
            "right": null,
            "top": null,
            "visibility": null,
            "width": null
          }
        },
        "010dca1090884cb4a8bc0f6fa7164edc": {
          "model_module": "@jupyter-widgets/controls",
          "model_name": "ProgressStyleModel",
          "model_module_version": "1.5.0",
          "state": {
            "_model_module": "@jupyter-widgets/controls",
            "_model_module_version": "1.5.0",
            "_model_name": "ProgressStyleModel",
            "_view_count": null,
            "_view_module": "@jupyter-widgets/base",
            "_view_module_version": "1.2.0",
            "_view_name": "StyleView",
            "bar_color": null,
            "description_width": ""
          }
        },
        "86843cee5bc74047b24923fa804dec85": {
          "model_module": "@jupyter-widgets/base",
          "model_name": "LayoutModel",
          "model_module_version": "1.2.0",
          "state": {
            "_model_module": "@jupyter-widgets/base",
            "_model_module_version": "1.2.0",
            "_model_name": "LayoutModel",
            "_view_count": null,
            "_view_module": "@jupyter-widgets/base",
            "_view_module_version": "1.2.0",
            "_view_name": "LayoutView",
            "align_content": null,
            "align_items": null,
            "align_self": null,
            "border": null,
            "bottom": null,
            "display": null,
            "flex": null,
            "flex_flow": null,
            "grid_area": null,
            "grid_auto_columns": null,
            "grid_auto_flow": null,
            "grid_auto_rows": null,
            "grid_column": null,
            "grid_gap": null,
            "grid_row": null,
            "grid_template_areas": null,
            "grid_template_columns": null,
            "grid_template_rows": null,
            "height": null,
            "justify_content": null,
            "justify_items": null,
            "left": null,
            "margin": null,
            "max_height": null,
            "max_width": null,
            "min_height": null,
            "min_width": null,
            "object_fit": null,
            "object_position": null,
            "order": null,
            "overflow": null,
            "overflow_x": null,
            "overflow_y": null,
            "padding": null,
            "right": null,
            "top": null,
            "visibility": null,
            "width": null
          }
        },
        "5092cfd6ebe5410c8c381ec21fbfa63c": {
          "model_module": "@jupyter-widgets/controls",
          "model_name": "DescriptionStyleModel",
          "model_module_version": "1.5.0",
          "state": {
            "_model_module": "@jupyter-widgets/controls",
            "_model_module_version": "1.5.0",
            "_model_name": "DescriptionStyleModel",
            "_view_count": null,
            "_view_module": "@jupyter-widgets/base",
            "_view_module_version": "1.2.0",
            "_view_name": "StyleView",
            "description_width": ""
          }
        },
        "9f9a0ed2db574df4bb03b1ab9f73fe4c": {
          "model_module": "@jupyter-widgets/controls",
          "model_name": "HBoxModel",
          "model_module_version": "1.5.0",
          "state": {
            "_dom_classes": [],
            "_model_module": "@jupyter-widgets/controls",
            "_model_module_version": "1.5.0",
            "_model_name": "HBoxModel",
            "_view_count": null,
            "_view_module": "@jupyter-widgets/controls",
            "_view_module_version": "1.5.0",
            "_view_name": "HBoxView",
            "box_style": "",
            "children": [
              "IPY_MODEL_ed435861482149768d6ce01561e54984",
              "IPY_MODEL_56d9a8f603db49149513fcded1992b4d",
              "IPY_MODEL_15495dae7d6144dba714fa8530cbe109"
            ],
            "layout": "IPY_MODEL_69c9b3c532024824aaad3a6de35f258f"
          }
        },
        "ed435861482149768d6ce01561e54984": {
          "model_module": "@jupyter-widgets/controls",
          "model_name": "HTMLModel",
          "model_module_version": "1.5.0",
          "state": {
            "_dom_classes": [],
            "_model_module": "@jupyter-widgets/controls",
            "_model_module_version": "1.5.0",
            "_model_name": "HTMLModel",
            "_view_count": null,
            "_view_module": "@jupyter-widgets/controls",
            "_view_module_version": "1.5.0",
            "_view_name": "HTMLView",
            "description": "",
            "description_tooltip": null,
            "layout": "IPY_MODEL_1ab4e5a8db2e4383b6b45b1dd02db831",
            "placeholder": "​",
            "style": "IPY_MODEL_a34db091e18a4687b38720910ccd0373",
            "value": "Downloading: 100%"
          }
        },
        "56d9a8f603db49149513fcded1992b4d": {
          "model_module": "@jupyter-widgets/controls",
          "model_name": "FloatProgressModel",
          "model_module_version": "1.5.0",
          "state": {
            "_dom_classes": [],
            "_model_module": "@jupyter-widgets/controls",
            "_model_module_version": "1.5.0",
            "_model_name": "FloatProgressModel",
            "_view_count": null,
            "_view_module": "@jupyter-widgets/controls",
            "_view_module_version": "1.5.0",
            "_view_name": "ProgressView",
            "bar_style": "success",
            "description": "",
            "description_tooltip": null,
            "layout": "IPY_MODEL_ab15fb11f7f14e7f822f9dc822f39209",
            "max": 1389353,
            "min": 0,
            "orientation": "horizontal",
            "style": "IPY_MODEL_91555353d3a64624ac9314d67f870e95",
            "value": 1389353
          }
        },
        "15495dae7d6144dba714fa8530cbe109": {
          "model_module": "@jupyter-widgets/controls",
          "model_name": "HTMLModel",
          "model_module_version": "1.5.0",
          "state": {
            "_dom_classes": [],
            "_model_module": "@jupyter-widgets/controls",
            "_model_module_version": "1.5.0",
            "_model_name": "HTMLModel",
            "_view_count": null,
            "_view_module": "@jupyter-widgets/controls",
            "_view_module_version": "1.5.0",
            "_view_name": "HTMLView",
            "description": "",
            "description_tooltip": null,
            "layout": "IPY_MODEL_a450830c92b54b73875e9796657c2b42",
            "placeholder": "​",
            "style": "IPY_MODEL_deecb792f1614df0a8df0df16eb8d3bb",
            "value": " 1.39M/1.39M [00:01&lt;00:00, 942kB/s]"
          }
        },
        "69c9b3c532024824aaad3a6de35f258f": {
          "model_module": "@jupyter-widgets/base",
          "model_name": "LayoutModel",
          "model_module_version": "1.2.0",
          "state": {
            "_model_module": "@jupyter-widgets/base",
            "_model_module_version": "1.2.0",
            "_model_name": "LayoutModel",
            "_view_count": null,
            "_view_module": "@jupyter-widgets/base",
            "_view_module_version": "1.2.0",
            "_view_name": "LayoutView",
            "align_content": null,
            "align_items": null,
            "align_self": null,
            "border": null,
            "bottom": null,
            "display": null,
            "flex": null,
            "flex_flow": null,
            "grid_area": null,
            "grid_auto_columns": null,
            "grid_auto_flow": null,
            "grid_auto_rows": null,
            "grid_column": null,
            "grid_gap": null,
            "grid_row": null,
            "grid_template_areas": null,
            "grid_template_columns": null,
            "grid_template_rows": null,
            "height": null,
            "justify_content": null,
            "justify_items": null,
            "left": null,
            "margin": null,
            "max_height": null,
            "max_width": null,
            "min_height": null,
            "min_width": null,
            "object_fit": null,
            "object_position": null,
            "order": null,
            "overflow": null,
            "overflow_x": null,
            "overflow_y": null,
            "padding": null,
            "right": null,
            "top": null,
            "visibility": null,
            "width": null
          }
        },
        "1ab4e5a8db2e4383b6b45b1dd02db831": {
          "model_module": "@jupyter-widgets/base",
          "model_name": "LayoutModel",
          "model_module_version": "1.2.0",
          "state": {
            "_model_module": "@jupyter-widgets/base",
            "_model_module_version": "1.2.0",
            "_model_name": "LayoutModel",
            "_view_count": null,
            "_view_module": "@jupyter-widgets/base",
            "_view_module_version": "1.2.0",
            "_view_name": "LayoutView",
            "align_content": null,
            "align_items": null,
            "align_self": null,
            "border": null,
            "bottom": null,
            "display": null,
            "flex": null,
            "flex_flow": null,
            "grid_area": null,
            "grid_auto_columns": null,
            "grid_auto_flow": null,
            "grid_auto_rows": null,
            "grid_column": null,
            "grid_gap": null,
            "grid_row": null,
            "grid_template_areas": null,
            "grid_template_columns": null,
            "grid_template_rows": null,
            "height": null,
            "justify_content": null,
            "justify_items": null,
            "left": null,
            "margin": null,
            "max_height": null,
            "max_width": null,
            "min_height": null,
            "min_width": null,
            "object_fit": null,
            "object_position": null,
            "order": null,
            "overflow": null,
            "overflow_x": null,
            "overflow_y": null,
            "padding": null,
            "right": null,
            "top": null,
            "visibility": null,
            "width": null
          }
        },
        "a34db091e18a4687b38720910ccd0373": {
          "model_module": "@jupyter-widgets/controls",
          "model_name": "DescriptionStyleModel",
          "model_module_version": "1.5.0",
          "state": {
            "_model_module": "@jupyter-widgets/controls",
            "_model_module_version": "1.5.0",
            "_model_name": "DescriptionStyleModel",
            "_view_count": null,
            "_view_module": "@jupyter-widgets/base",
            "_view_module_version": "1.2.0",
            "_view_name": "StyleView",
            "description_width": ""
          }
        },
        "ab15fb11f7f14e7f822f9dc822f39209": {
          "model_module": "@jupyter-widgets/base",
          "model_name": "LayoutModel",
          "model_module_version": "1.2.0",
          "state": {
            "_model_module": "@jupyter-widgets/base",
            "_model_module_version": "1.2.0",
            "_model_name": "LayoutModel",
            "_view_count": null,
            "_view_module": "@jupyter-widgets/base",
            "_view_module_version": "1.2.0",
            "_view_name": "LayoutView",
            "align_content": null,
            "align_items": null,
            "align_self": null,
            "border": null,
            "bottom": null,
            "display": null,
            "flex": null,
            "flex_flow": null,
            "grid_area": null,
            "grid_auto_columns": null,
            "grid_auto_flow": null,
            "grid_auto_rows": null,
            "grid_column": null,
            "grid_gap": null,
            "grid_row": null,
            "grid_template_areas": null,
            "grid_template_columns": null,
            "grid_template_rows": null,
            "height": null,
            "justify_content": null,
            "justify_items": null,
            "left": null,
            "margin": null,
            "max_height": null,
            "max_width": null,
            "min_height": null,
            "min_width": null,
            "object_fit": null,
            "object_position": null,
            "order": null,
            "overflow": null,
            "overflow_x": null,
            "overflow_y": null,
            "padding": null,
            "right": null,
            "top": null,
            "visibility": null,
            "width": null
          }
        },
        "91555353d3a64624ac9314d67f870e95": {
          "model_module": "@jupyter-widgets/controls",
          "model_name": "ProgressStyleModel",
          "model_module_version": "1.5.0",
          "state": {
            "_model_module": "@jupyter-widgets/controls",
            "_model_module_version": "1.5.0",
            "_model_name": "ProgressStyleModel",
            "_view_count": null,
            "_view_module": "@jupyter-widgets/base",
            "_view_module_version": "1.2.0",
            "_view_name": "StyleView",
            "bar_color": null,
            "description_width": ""
          }
        },
        "a450830c92b54b73875e9796657c2b42": {
          "model_module": "@jupyter-widgets/base",
          "model_name": "LayoutModel",
          "model_module_version": "1.2.0",
          "state": {
            "_model_module": "@jupyter-widgets/base",
            "_model_module_version": "1.2.0",
            "_model_name": "LayoutModel",
            "_view_count": null,
            "_view_module": "@jupyter-widgets/base",
            "_view_module_version": "1.2.0",
            "_view_name": "LayoutView",
            "align_content": null,
            "align_items": null,
            "align_self": null,
            "border": null,
            "bottom": null,
            "display": null,
            "flex": null,
            "flex_flow": null,
            "grid_area": null,
            "grid_auto_columns": null,
            "grid_auto_flow": null,
            "grid_auto_rows": null,
            "grid_column": null,
            "grid_gap": null,
            "grid_row": null,
            "grid_template_areas": null,
            "grid_template_columns": null,
            "grid_template_rows": null,
            "height": null,
            "justify_content": null,
            "justify_items": null,
            "left": null,
            "margin": null,
            "max_height": null,
            "max_width": null,
            "min_height": null,
            "min_width": null,
            "object_fit": null,
            "object_position": null,
            "order": null,
            "overflow": null,
            "overflow_x": null,
            "overflow_y": null,
            "padding": null,
            "right": null,
            "top": null,
            "visibility": null,
            "width": null
          }
        },
        "deecb792f1614df0a8df0df16eb8d3bb": {
          "model_module": "@jupyter-widgets/controls",
          "model_name": "DescriptionStyleModel",
          "model_module_version": "1.5.0",
          "state": {
            "_model_module": "@jupyter-widgets/controls",
            "_model_module_version": "1.5.0",
            "_model_name": "DescriptionStyleModel",
            "_view_count": null,
            "_view_module": "@jupyter-widgets/base",
            "_view_module_version": "1.2.0",
            "_view_name": "StyleView",
            "description_width": ""
          }
        }
      }
    }
  },
  "cells": [
    {
      "cell_type": "markdown",
      "metadata": {
        "id": "view-in-github",
        "colab_type": "text"
      },
      "source": [
        "<a href=\"https://colab.research.google.com/github/Kirushikesh/Schlumberger-s-Hackathon/blob/main/Scl_hack.ipynb\" target=\"_parent\"><img src=\"https://colab.research.google.com/assets/colab-badge.svg\" alt=\"Open In Colab\"/></a>"
      ]
    },
    {
      "cell_type": "markdown",
      "source": [
        "# Problem Statement:\n",
        "\n",
        "To develop a ML-AI based summarization and data aggregation for generating insights from the “Energy Data feed”, which will minimize manual curation and analysis in automated feed. The data was considered from the following News Feeds,\n",
        "\n",
        "\n",
        "*   “International Energy Agency”, \n",
        "*   “National Energy Technology Laboratory”,\n",
        "*   “U.S. Energy Information Administration”,\n",
        "*   “International Renewable Energy Agency”."
      ],
      "metadata": {
        "id": "a8hQ6moYdVJl"
      }
    },
    {
      "cell_type": "markdown",
      "source": [
        "# Crawler\n",
        "\n",
        "With the given query and k value it returns the list of top k result url's from each of the data sources."
      ],
      "metadata": {
        "id": "ByMogreeM1ZL"
      }
    },
    {
      "cell_type": "markdown",
      "source": [
        "For now we are focussing on 4 news feeds, we can further extend it based on the need. The future goal is to include different types of data sources like audio, videos, images and texts."
      ],
      "metadata": {
        "id": "aDugTDiiNuxq"
      }
    },
    {
      "cell_type": "code",
      "execution_count": 1,
      "metadata": {
        "id": "PjUV9OggoZma"
      },
      "outputs": [],
      "source": [
        "data_sources=[\n",
        "    'https://www.iea.org/search/news?q=%s',\n",
        "    'https://netl.doe.gov/search/node?keys=%s',\n",
        "    'https://search.usa.gov/search?affiliate=eia.doe.gov&sort_by=&query=%s',\n",
        "    'https://www.irena.org/Search?query=%s&contentType=e833bea4-7572-4310-944f-f57c92ab7ead&orderBy=Date'\n",
        "]"
      ]
    },
    {
      "cell_type": "code",
      "source": [
        "import requests\n",
        "from bs4 import BeautifulSoup\n",
        "\n",
        "#Returns the top k result sites from searching the query in iea website\n",
        "def iea_crawler(site,k):\n",
        "    r = requests.get(site)\n",
        "    soup = BeautifulSoup(r.content, 'html.parser')\n",
        "    \n",
        "    out=[]\n",
        "    for article in soup.find_all('article',class_='m-news-listing',limit=k):\n",
        "        out.append('https://www.iea.org'+article.find('a').get('href'))\n",
        "    return out\n",
        "\n",
        "#Returns the top k result sites from searching the query in netl website\n",
        "def netl_crawler(site,k):\n",
        "    r = requests.get(site)\n",
        "    soup = BeautifulSoup(r.content, 'html.parser')\n",
        "\n",
        "    out=[]\n",
        "    for content in soup.find_all('div',class_='netlsearch-results',limit=k):\n",
        "        out.append(content.find('a').get('href'))\n",
        "    return out\n",
        "\n",
        "#Returns the top k result sites from searching the query in eia website\n",
        "def eia_crawler(site,k):\n",
        "    r = requests.get(site)\n",
        "    soup = BeautifulSoup(r.content, 'html.parser')\n",
        "\n",
        "    out=[]\n",
        "    for content in soup.find_all('div',class_='content-block-item result',limit=k):\n",
        "        out.append(content.find('a').get('href'))\n",
        "    return out\n",
        "\n",
        "#Returns the top k result sites from searching the query in irena website\n",
        "def irena_crawler(site,k):\n",
        "    r = requests.get(site)\n",
        "    soup = BeautifulSoup(r.content, 'html.parser')\n",
        "\n",
        "    out=[]\n",
        "    for content in soup.find_all('div',class_='c-Result__content',limit=k):\n",
        "        out.append('https://www.irena.org'+content.find('a').get('href'))\n",
        "    return out"
      ],
      "metadata": {
        "id": "4eXCAraoJyHQ"
      },
      "execution_count": 2,
      "outputs": []
    },
    {
      "cell_type": "code",
      "source": [
        "#This function aggregates the top k result url's from each of the data sources for a given query and k value. \n",
        "def return_topk(query,k):\n",
        "    crawler_list=[]\n",
        "    crawler_list.extend(iea_crawler(data_sources[0] %query,k))\n",
        "\n",
        "    crawler_list.extend(netl_crawler(data_sources[1] %query,k))\n",
        "\n",
        "    crawler_list.extend(eia_crawler(data_sources[2] %query,k))\n",
        "\n",
        "    crawler_list.extend(irena_crawler(data_sources[3] %query,k))\n",
        "\n",
        "    return crawler_list"
      ],
      "metadata": {
        "id": "W1IROPHsPC9C"
      },
      "execution_count": 3,
      "outputs": []
    },
    {
      "cell_type": "markdown",
      "source": [
        "# Scraper\n",
        "\n",
        "Takes a news url, scraps the data then preprocess to remove unwanted texts like html tags to result into clean text."
      ],
      "metadata": {
        "id": "jaCt_zF4LXBW"
      }
    },
    {
      "cell_type": "markdown",
      "source": [
        "The Preprocessing step mainly consist of removing java script codes and html tags from the unstructured text."
      ],
      "metadata": {
        "id": "mtuTogXvMC8p"
      }
    },
    {
      "cell_type": "code",
      "source": [
        "import re\n",
        "\n",
        "# remove java script codes from text\n",
        "def remove_script_code(data):\n",
        "    pattern = r'<[ ]*script.*?\\/[ ]*script[ ]*>'  # mach any char zero or more times\n",
        "    return re.sub(pattern, '', data, flags=(re.IGNORECASE | re.MULTILINE | re.DOTALL))\n",
        "\n",
        "# remove whitespace from text\n",
        "def remove_whitespace(text):\n",
        "    return  \" \".join(text.split())\n",
        " \n",
        "# Condenses all repeating newline characters into one single newline character\n",
        "def condense_newline(text):\n",
        "    return ' '.join([p for p in re.split('\\n|\\r', text) if len(p) > 0])\n",
        "\n",
        "# remove html tags from text\n",
        "def remove_htmltag(text):\n",
        "    TAG_RE = re.compile(r'<[^>]+>')\n",
        "    return TAG_RE.sub(' ', str(text))\n",
        "\n",
        "# Takes a news feed url, scraps the webpage then process to return the clean version of text\n",
        "def scrap(site):\n",
        "    r = requests.get(site)\n",
        "    soup = BeautifulSoup(r.content,'html.parser')\n",
        "    return remove_whitespace(condense_newline(remove_htmltag(remove_script_code(str(soup)))))"
      ],
      "metadata": {
        "id": "mjKZjdNQLaCe"
      },
      "execution_count": 4,
      "outputs": []
    },
    {
      "cell_type": "code",
      "source": [
        "#Takes a set of new's url then returns the processesed version of each of the site together in a list\n",
        "def scrapper_agg(sites):\n",
        "    texts=[]\n",
        "    for site in sites:\n",
        "        texts.append(scrap(site))\n",
        "    \n",
        "    return texts"
      ],
      "metadata": {
        "id": "jIEP_-g0JnDo"
      },
      "execution_count": 5,
      "outputs": []
    },
    {
      "cell_type": "markdown",
      "source": [
        "# Summarizer\n",
        "\n",
        "Summaries the text from a website using the power of both Extractive and Abstractive Summarizer."
      ],
      "metadata": {
        "id": "GAqf5Q3XKMax"
      }
    },
    {
      "cell_type": "code",
      "source": [
        "!pip install -q -U transformers"
      ],
      "metadata": {
        "colab": {
          "base_uri": "https://localhost:8080/"
        },
        "id": "uhagotZEL1A2",
        "outputId": "50b7d798-de30-40c3-f7f1-259ba9656eb9"
      },
      "execution_count": 6,
      "outputs": [
        {
          "output_type": "stream",
          "name": "stdout",
          "text": [
            "\u001b[2K     \u001b[90m━━━━━━━━━━━━━━━━━━━━━━━━━━━━━━━━━━━━━━━━\u001b[0m \u001b[32m5.8/5.8 MB\u001b[0m \u001b[31m83.1 MB/s\u001b[0m eta \u001b[36m0:00:00\u001b[0m\n",
            "\u001b[2K     \u001b[90m━━━━━━━━━━━━━━━━━━━━━━━━━━━━━━━━━━━━━━━━\u001b[0m \u001b[32m7.6/7.6 MB\u001b[0m \u001b[31m103.2 MB/s\u001b[0m eta \u001b[36m0:00:00\u001b[0m\n",
            "\u001b[2K     \u001b[90m━━━━━━━━━━━━━━━━━━━━━━━━━━━━━━━━━━━━━━\u001b[0m \u001b[32m182.4/182.4 KB\u001b[0m \u001b[31m23.5 MB/s\u001b[0m eta \u001b[36m0:00:00\u001b[0m\n",
            "\u001b[?25h"
          ]
        }
      ]
    },
    {
      "cell_type": "code",
      "source": [
        "import nltk\n",
        "nltk.download('punkt')\n",
        "nltk.download('stopwords')"
      ],
      "metadata": {
        "colab": {
          "base_uri": "https://localhost:8080/"
        },
        "id": "CR2ajnYfjfTO",
        "outputId": "b6be80a0-3298-4bd8-eddd-58cfa0651fe3"
      },
      "execution_count": 7,
      "outputs": [
        {
          "output_type": "stream",
          "name": "stderr",
          "text": [
            "[nltk_data] Downloading package punkt to /root/nltk_data...\n",
            "[nltk_data]   Unzipping tokenizers/punkt.zip.\n",
            "[nltk_data] Downloading package stopwords to /root/nltk_data...\n",
            "[nltk_data]   Unzipping corpora/stopwords.zip.\n"
          ]
        },
        {
          "output_type": "execute_result",
          "data": {
            "text/plain": [
              "True"
            ]
          },
          "metadata": {},
          "execution_count": 7
        }
      ]
    },
    {
      "cell_type": "markdown",
      "source": [
        "## Extractive Summarizer\n",
        "\n",
        "An extractive summarization method is concatenating important sentences or paragraphs without understanding the meaning of those sentences."
      ],
      "metadata": {
        "id": "Ln8l49ytifQ7"
      }
    },
    {
      "cell_type": "markdown",
      "source": [
        "The Extractive Summarizer is done using the weighting method, where we assign weights to each of the sentence in the original text(using the importance of the words the sentence contains) then we fix a threshold(usually average of all sentence scores) to result the sentence which has weights higher than the threshold."
      ],
      "metadata": {
        "id": "2JaH5W6-i9aN"
      }
    },
    {
      "cell_type": "code",
      "source": [
        "from nltk.corpus import stopwords\n",
        "from nltk.stem import PorterStemmer\n",
        "from nltk.tokenize import word_tokenize, sent_tokenize\n",
        "import bs4 as BeautifulSoup\n",
        "import urllib.request  \n",
        "\n",
        "#create a dictionary of words with their occurence frequency\n",
        "def _create_dictionary_table(text_string) -> dict:\n",
        "   \n",
        "    #removing stop words\n",
        "    stop_words = set(stopwords.words(\"english\"))\n",
        "    \n",
        "    words = word_tokenize(text_string)\n",
        "    \n",
        "    #reducing words to their root form\n",
        "    stem = PorterStemmer()\n",
        "    \n",
        "    #creating dictionary for the word frequency table\n",
        "    frequency_table = dict()\n",
        "    for wd in words:\n",
        "        wd = stem.stem(wd)\n",
        "        if wd in stop_words:\n",
        "            continue\n",
        "        if wd in frequency_table:\n",
        "            frequency_table[wd] += 1\n",
        "        else:\n",
        "            frequency_table[wd] = 1\n",
        "\n",
        "    return frequency_table\n",
        "\n",
        "#calculate the weight scores for each of the sentence in the original text using the importance of word's it contains.\n",
        "def _calculate_sentence_scores(sentences, frequency_table) -> dict:   \n",
        "\n",
        "    #algorithm for scoring a sentence by its words\n",
        "    sentence_weight = dict()\n",
        "\n",
        "    for sentence in sentences:\n",
        "        sentence_wordcount = (len(word_tokenize(sentence)))\n",
        "        sentence_wordcount_without_stop_words = 0\n",
        "        for word_weight in frequency_table:\n",
        "            if word_weight in sentence.lower():\n",
        "                sentence_wordcount_without_stop_words += 1\n",
        "                if sentence[:7] in sentence_weight:\n",
        "                    sentence_weight[sentence[:7]] += frequency_table[word_weight]\n",
        "                else:\n",
        "                    sentence_weight[sentence[:7]] = frequency_table[word_weight]\n",
        "\n",
        "        sentence_weight[sentence[:7]] = sentence_weight[sentence[:7]] / sentence_wordcount_without_stop_words\n",
        "\n",
        "       \n",
        "\n",
        "    return sentence_weight\n",
        "\n",
        "#calculate the average of all sentence scores in the text for fixing a threshold\n",
        "def _calculate_average_score(sentence_weight) -> int:\n",
        "   \n",
        "    #calculating the average score for the sentences\n",
        "    sum_values = 0\n",
        "    for entry in sentence_weight:\n",
        "        sum_values += sentence_weight[entry]\n",
        "\n",
        "    #getting sentence average value from source text\n",
        "    average_score = (sum_values / len(sentence_weight))\n",
        "\n",
        "    return average_score\n",
        "\n",
        "#gets the sentences which has weights more than the threshold\n",
        "def _get_article_summary(sentences, sentence_weight, threshold):\n",
        "    sentence_counter = 0\n",
        "    article_summary = ''\n",
        "\n",
        "    for sentence in sentences:\n",
        "        if sentence[:7] in sentence_weight and sentence_weight[sentence[:7]] >= (threshold):\n",
        "            article_summary += \" \" + sentence\n",
        "            sentence_counter += 1\n",
        "\n",
        "    return article_summary\n",
        "\n",
        "#returns the extractive summary given a original text\n",
        "def _run_article_summary(article):\n",
        "    \n",
        "    #creating a dictionary for the word frequency table\n",
        "    frequency_table = _create_dictionary_table(article)\n",
        "\n",
        "    #tokenizing the sentences\n",
        "    sentences = sent_tokenize(article)\n",
        "\n",
        "    #algorithm for scoring a sentence by its words\n",
        "    sentence_scores = _calculate_sentence_scores(sentences, frequency_table)\n",
        "\n",
        "    #getting the threshold\n",
        "    threshold = _calculate_average_score(sentence_scores)\n",
        "\n",
        "    #producing the summary\n",
        "    article_summary = _get_article_summary(sentences, sentence_scores, .5 * threshold)\n",
        "\n",
        "    return article_summary"
      ],
      "metadata": {
        "id": "hYt-DjrIkqTJ"
      },
      "execution_count": 8,
      "outputs": []
    },
    {
      "cell_type": "markdown",
      "source": [
        "## Abstractive Summarizer\n",
        "\n",
        "An abstractive summarization method is generating the meaningful summary using the new words not even found in the original text."
      ],
      "metadata": {
        "id": "3iOKGBUpiltC"
      }
    },
    {
      "cell_type": "code",
      "source": [
        "from transformers import pipeline\n",
        "\n",
        "pipe=pipeline(\"summarization\",model='t5-small')"
      ],
      "metadata": {
        "colab": {
          "base_uri": "https://localhost:8080/",
          "height": 269,
          "referenced_widgets": [
            "0e4b266bedcf42a8a2370c0d70a756e7",
            "564abaa0c2684c179f3ceff235868ed3",
            "82623b30ec5e4e119485b07887fc1fd1",
            "8c5e44f0259d4499917843791b0a5df2",
            "ffb4321f0d254eb6a92448a745ac8b81",
            "c216f4a3fb6e465a837d0b1240ef3420",
            "d327cafce40043b688ce8ac7fe810c5e",
            "cbb635a023f14e0ab28c7f3271033125",
            "3cda2c0993b54de1a4afc58634f0cfe0",
            "e62ef04d14504aa3b2025b487d32719d",
            "8d69526602d543e19664ca679d20b3db",
            "32175f58f8b3462aa17d669780cba6c1",
            "a3be4901c04f48e78908024d4550d769",
            "a23c102e8a0b439c811b0f205c0b974b",
            "72bed24eeaa34bf6bd2c039a0caee878",
            "89f37e4af56a4290b08a45bedd59a859",
            "079a876245b24b2082a087452c5ec118",
            "c5ad443d8e8b4960a2ee7931755ff12f",
            "199f9ff3e2e342d4baeb9ce2ed343709",
            "14373eaf5d5d49d2b22bd6a75924197b",
            "43e2057fe770477bb9323d2d10d201c5",
            "34a297a1226f44b098fd5b1d774d9e0f",
            "dc78a7cbb33348daab51a3cfddfef20b",
            "f8815a39cd5d4b31aff47df1e8fa8191",
            "19cfc6658b434e12841f07d40c3c3e09",
            "e1ac0cdbe2b442bb9a3c31891d99169a",
            "5de2f2c5f6aa4f2380aa75b3efe4a6e4",
            "a072502137ef4d85a3539ab67467fdd1",
            "302c4db07aa9480992fe87b383540520",
            "bcb6dd2a42e84d28aabdc03635e29098",
            "010dca1090884cb4a8bc0f6fa7164edc",
            "86843cee5bc74047b24923fa804dec85",
            "5092cfd6ebe5410c8c381ec21fbfa63c",
            "9f9a0ed2db574df4bb03b1ab9f73fe4c",
            "ed435861482149768d6ce01561e54984",
            "56d9a8f603db49149513fcded1992b4d",
            "15495dae7d6144dba714fa8530cbe109",
            "69c9b3c532024824aaad3a6de35f258f",
            "1ab4e5a8db2e4383b6b45b1dd02db831",
            "a34db091e18a4687b38720910ccd0373",
            "ab15fb11f7f14e7f822f9dc822f39209",
            "91555353d3a64624ac9314d67f870e95",
            "a450830c92b54b73875e9796657c2b42",
            "deecb792f1614df0a8df0df16eb8d3bb"
          ]
        },
        "id": "D38jlFBgiaqA",
        "outputId": "829ca77e-c164-4d21-f783-f164775f9ea8"
      },
      "execution_count": 9,
      "outputs": [
        {
          "output_type": "display_data",
          "data": {
            "text/plain": [
              "Downloading:   0%|          | 0.00/1.21k [00:00<?, ?B/s]"
            ],
            "application/vnd.jupyter.widget-view+json": {
              "version_major": 2,
              "version_minor": 0,
              "model_id": "0e4b266bedcf42a8a2370c0d70a756e7"
            }
          },
          "metadata": {}
        },
        {
          "output_type": "display_data",
          "data": {
            "text/plain": [
              "Downloading:   0%|          | 0.00/242M [00:00<?, ?B/s]"
            ],
            "application/vnd.jupyter.widget-view+json": {
              "version_major": 2,
              "version_minor": 0,
              "model_id": "32175f58f8b3462aa17d669780cba6c1"
            }
          },
          "metadata": {}
        },
        {
          "output_type": "display_data",
          "data": {
            "text/plain": [
              "Downloading:   0%|          | 0.00/792k [00:00<?, ?B/s]"
            ],
            "application/vnd.jupyter.widget-view+json": {
              "version_major": 2,
              "version_minor": 0,
              "model_id": "dc78a7cbb33348daab51a3cfddfef20b"
            }
          },
          "metadata": {}
        },
        {
          "output_type": "display_data",
          "data": {
            "text/plain": [
              "Downloading:   0%|          | 0.00/1.39M [00:00<?, ?B/s]"
            ],
            "application/vnd.jupyter.widget-view+json": {
              "version_major": 2,
              "version_minor": 0,
              "model_id": "9f9a0ed2db574df4bb03b1ab9f73fe4c"
            }
          },
          "metadata": {}
        },
        {
          "output_type": "stream",
          "name": "stderr",
          "text": [
            "/usr/local/lib/python3.8/dist-packages/transformers/models/t5/tokenization_t5_fast.py:155: FutureWarning: This tokenizer was incorrectly instantiated with a model max length of 512 which will be corrected in Transformers v5.\n",
            "For now, this behavior is kept to avoid breaking backwards compatibility when padding/encoding with `truncation is True`.\n",
            "- Be aware that you SHOULD NOT rely on t5-small automatically truncating your input to 512 when padding/encoding.\n",
            "- If you want to encode/pad to sequences longer than 512 you can either instantiate this tokenizer with `model_max_length` or pass `max_length` when encoding/padding.\n",
            "- To avoid this warning, please instantiate this tokenizer with `model_max_length` set to your preferred value.\n",
            "  warnings.warn(\n"
          ]
        }
      ]
    },
    {
      "cell_type": "code",
      "source": [
        "from nltk.tokenize import sent_tokenize\n",
        "\n",
        "#Uses the t5 pre trained tokenizer to summarize the text\n",
        "#For each of the text articles it first calls the extractive followed by the abstractive summarizer.\n",
        "def summarize(texts):\n",
        "    summary=[]\n",
        "    \n",
        "    for text in texts:\n",
        "        summary_results = _run_article_summary(text)\n",
        "        pipe_out=pipe(summary_results)\n",
        "        summary.append(\"\\n\".join(sent_tokenize(pipe_out[0]['summary_text'])))\n",
        "    \n",
        "    return summary"
      ],
      "metadata": {
        "id": "ukBRkJQwiwud"
      },
      "execution_count": 10,
      "outputs": []
    },
    {
      "cell_type": "markdown",
      "source": [
        "# Aggregation\n",
        "\n",
        "Aggregates the summarizer for all the results together to give the final combined results"
      ],
      "metadata": {
        "id": "GHgmAseXm2LG"
      }
    },
    {
      "cell_type": "code",
      "source": [
        "#concadenate the summaries together to return the final result\n",
        "def aggregate_results(query,sites,summaries,k):\n",
        "    print('The Query is :',query,'\\n')\n",
        "    print(f'The Top {k} Results are :')\n",
        "\n",
        "    print('\\n Results from IEA :')\n",
        "    for site,summary in zip(sites[:k],summaries[:k]):\n",
        "        print('According to',site,':')\n",
        "        print('Summary: '+summary)\n",
        "        print('\\n')\n",
        "\n",
        "    print('Results from National Energy Technology Laboratory :')\n",
        "    for site,summary in zip(sites[k:2*k],summaries[k:2*k]):\n",
        "        print('According to',site,':')\n",
        "        print('Summary: '+summary)\n",
        "        print('\\n')\n",
        "\n",
        "    print('Results from U.S. Energy Information Administration :')\n",
        "    for site,summary in zip(sites[2*k:3*k],summaries[2*k:3*k]):\n",
        "        print('According to',site,':')\n",
        "        print('Summary: '+summary)\n",
        "        print('\\n')\n",
        "    \n",
        "    print('Results from International Renewable Energy Agency :')\n",
        "    for site,summary in zip(sites[3*k:],summaries[3*k:]):\n",
        "        print('According to',site,':')\n",
        "        print('Summary: '+summary)\n",
        "        print('\\n')\n",
        "\n",
        "    return"
      ],
      "metadata": {
        "id": "HDlpG9Yjm4yh"
      },
      "execution_count": 11,
      "outputs": []
    },
    {
      "cell_type": "markdown",
      "source": [
        "# Runs\n",
        "\n",
        "A demonstraction of the system using a sample query and k value"
      ],
      "metadata": {
        "id": "JtYfUG0WMXM2"
      }
    },
    {
      "cell_type": "code",
      "source": [
        "query='climate change'\n",
        "k=1"
      ],
      "metadata": {
        "id": "RHzSkFGCnWi4"
      },
      "execution_count": 12,
      "outputs": []
    },
    {
      "cell_type": "code",
      "source": [
        "from bs4 import BeautifulSoup\n",
        "\n",
        "sites=return_topk(query,k)\n",
        "sites[0]"
      ],
      "metadata": {
        "colab": {
          "base_uri": "https://localhost:8080/",
          "height": 53
        },
        "id": "cfQL19Sglcd2",
        "outputId": "8a7f748c-d4db-4da4-cd7e-0dd0484e9c12"
      },
      "execution_count": 13,
      "outputs": [
        {
          "output_type": "execute_result",
          "data": {
            "text/plain": [
              "'https://www.iea.org/news/iea-executive-director-and-china-s-special-envoy-on-climate-change-discuss-global-efforts-to-reach-net-zero-emissions'"
            ],
            "application/vnd.google.colaboratory.intrinsic+json": {
              "type": "string"
            }
          },
          "metadata": {},
          "execution_count": 13
        }
      ]
    },
    {
      "cell_type": "code",
      "source": [
        "sites"
      ],
      "metadata": {
        "colab": {
          "base_uri": "https://localhost:8080/"
        },
        "id": "50-xtKDuC5oh",
        "outputId": "bac36b9d-b488-4b41-ca67-da2313722040"
      },
      "execution_count": 14,
      "outputs": [
        {
          "output_type": "execute_result",
          "data": {
            "text/plain": [
              "['https://www.iea.org/news/iea-executive-director-and-china-s-special-envoy-on-climate-change-discuss-global-efforts-to-reach-net-zero-emissions',\n",
              " 'https://netl.doe.gov/node/12228',\n",
              " 'https://www.eia.gov/outlooks/steo/',\n",
              " 'https://www.irena.org/News/pressreleases/2023/Jan/Renewables-Can-Provide-Nearly-60-Per-Cent-of-Nigerias-Energy-Demand-by-2050']"
            ]
          },
          "metadata": {},
          "execution_count": 14
        }
      ]
    },
    {
      "cell_type": "code",
      "source": [
        "plain_texts=scrapper_agg(sites)\n",
        "plain_texts[0][:500]"
      ],
      "metadata": {
        "colab": {
          "base_uri": "https://localhost:8080/",
          "height": 88
        },
        "id": "tpA-oLiNMNRI",
        "outputId": "c5d962d8-443f-4034-f45d-544591d70c35"
      },
      "execution_count": 15,
      "outputs": [
        {
          "output_type": "execute_result",
          "data": {
            "text/plain": [
              "'IEA Executive Director and China’s Special Envoy on Climate Change discuss global efforts to reach net-zero emissions - News - IEA IEA Close Search Submit IEA Skip navigation Countries Find out about the world, a region, or a country All countries circle-arrow Explore world circle-arrow Member countries Australia Austria Belgium Canada Czech Republic Denmark Estonia Finland France Germany Greece Hungary Ireland Italy Japan Korea Lithuania Luxembourg Mexico New Zealand Norway Poland Portugal Slov'"
            ],
            "application/vnd.google.colaboratory.intrinsic+json": {
              "type": "string"
            }
          },
          "metadata": {},
          "execution_count": 15
        }
      ]
    },
    {
      "cell_type": "code",
      "source": [
        "summaries=summarize(plain_texts)\n",
        "summaries[0]"
      ],
      "metadata": {
        "colab": {
          "base_uri": "https://localhost:8080/",
          "height": 108
        },
        "id": "KNRb7OJGKAam",
        "outputId": "f7d67660-fd3c-41db-a2ee-58201a3647d4"
      },
      "execution_count": 16,
      "outputs": [
        {
          "output_type": "stream",
          "name": "stderr",
          "text": [
            "Token indices sequence length is longer than the specified maximum sequence length for this model (1651 > 512). Running this sequence through the model will result in indexing errors\n"
          ]
        },
        {
          "output_type": "execute_result",
          "data": {
            "text/plain": [
              "'IEA Executive Director and China’s special Envoy on Climate Change Xie Zhenhua discussed global efforts to reach net zero emissions 25 June 2021 . they discussed major energy and climate issues including the findings of the recent global roadmap to net zero by 2050 . he said that the whole of society will need to play a role in helping the world to realise the Paris Agreement goals .'"
            ],
            "application/vnd.google.colaboratory.intrinsic+json": {
              "type": "string"
            }
          },
          "metadata": {},
          "execution_count": 16
        }
      ]
    },
    {
      "cell_type": "code",
      "source": [
        "aggregate_results(query,sites,summaries,k)"
      ],
      "metadata": {
        "colab": {
          "base_uri": "https://localhost:8080/"
        },
        "id": "t5uYCxMj6hIp",
        "outputId": "fa0cc2b1-05b6-4b59-c436-bde953ca4806"
      },
      "execution_count": 17,
      "outputs": [
        {
          "output_type": "stream",
          "name": "stdout",
          "text": [
            "The Query is : climate change \n",
            "\n",
            "The Top 1 Results are :\n",
            "\n",
            " Results from IEA :\n",
            "According to https://www.iea.org/news/iea-executive-director-and-china-s-special-envoy-on-climate-change-discuss-global-efforts-to-reach-net-zero-emissions :\n",
            "Summary: IEA Executive Director and China’s special Envoy on Climate Change Xie Zhenhua discussed global efforts to reach net zero emissions 25 June 2021 . they discussed major energy and climate issues including the findings of the recent global roadmap to net zero by 2050 . he said that the whole of society will need to play a role in helping the world to realise the Paris Agreement goals .\n",
            "\n",
            "\n",
            "Results from National Energy Technology Laboratory :\n",
            "According to https://netl.doe.gov/node/12228 :\n",
            "Summary: NETL closer to Achieving Critical Decarbonization Goals Director’s Corner by Brian Anderson, Ph.D. January 02, 2023 . the great american thinker once said, “Act as if what you do makes a difference.\n",
            "It does.” .\n",
            "our work has helped bring the nation closer than ever to meeting critical climate goals set forth by the Biden-Harris Administration that call for a carbon emission-free electricity sector by 2035 .\n",
            "\n",
            "\n",
            "Results from U.S. Energy Information Administration :\n",
            "According to https://www.eia.gov/outlooks/steo/ :\n",
            "Summary: global production of liquid fuels in our forecast reaches an average of 102.8 million barrels per day (b/d) in 2023, down 18% from 2022, and continues to rise by 1.0% in 2024 . crude oil prices will rise by 0.9%, driven primarily by an increase in household consumption .\n",
            "we expect retail gasoline prices to average about $3.30 per gallon (gal) .\n",
            "\n",
            "\n",
            "Results from International Renewable Energy Agency :\n",
            "According to https://www.irena.org/News/pressreleases/2023/Jan/Renewables-Can-Provide-Nearly-60-Per-Cent-of-Nigerias-Energy-Demand-by-2050 :\n",
            "Summary: Renewables can provide Nearly 60 per cent of Nigeria’s energy demand by 2050 . the share of primary energy requirements met with renewable energy can reach 47 per cent by 2030 .\n",
            "IRENA’s Energy Transition Scenario has lower investment costs than planned policies .\n",
            "\n",
            "\n"
          ]
        }
      ]
    }
  ]
}